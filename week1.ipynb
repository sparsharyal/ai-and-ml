{
  "nbformat": 4,
  "nbformat_minor": 0,
  "metadata": {
    "colab": {
      "private_outputs": true,
      "provenance": []
    },
    "kernelspec": {
      "name": "python3",
      "display_name": "Python 3"
    },
    "language_info": {
      "name": "python"
    }
  },
  "cells": [
    {
      "cell_type": "code",
      "execution_count": null,
      "metadata": {
        "id": "P7uqDNLKAKOf"
      },
      "outputs": [],
      "source": [
        "!pip install pillow"
      ]
    },
    {
      "cell_type": "code",
      "source": [
        "from PIL import Image"
      ],
      "metadata": {
        "id": "zLs7uPyQAQeU"
      },
      "execution_count": null,
      "outputs": []
    },
    {
      "cell_type": "code",
      "source": [
        "image_colored = Image.open(\"/content/drive/MyDrive/ai and ml/Lenna_(test_image).png\")\n"
      ],
      "metadata": {
        "id": "II5yFbo4AU9-"
      },
      "execution_count": null,
      "outputs": []
    },
    {
      "cell_type": "code",
      "source": [
        "from google.colab import drive\n",
        "drive.mount('/content/drive')"
      ],
      "metadata": {
        "id": "PlKkJYYvBL3L"
      },
      "execution_count": null,
      "outputs": []
    },
    {
      "cell_type": "code",
      "source": [
        "print(\"Format:\", image_colored.format)\n",
        "print(\"Mode:\", image_colored.mode)\n",
        "print(\"Size:\", image_colored.size)"
      ],
      "metadata": {
        "id": "ksOiVTJ8BQ7f"
      },
      "execution_count": null,
      "outputs": []
    },
    {
      "cell_type": "code",
      "source": [
        "image_colored = image_colored.convert(\"RGB\")\n",
        "print(image_colored.mode)"
      ],
      "metadata": {
        "id": "4crW-gSoBT7k"
      },
      "execution_count": null,
      "outputs": []
    },
    {
      "cell_type": "markdown",
      "source": [
        "## Gray Scale Image"
      ],
      "metadata": {
        "id": "-v3LUzMsBWjc"
      }
    },
    {
      "cell_type": "code",
      "source": [
        "image_grayed = image_colored.convert('L')\n",
        "display(image_grayed)"
      ],
      "metadata": {
        "id": "UhuG52TEBXJ-"
      },
      "execution_count": null,
      "outputs": []
    },
    {
      "cell_type": "code",
      "source": [
        "print(image_grayed.size)\n",
        "print(image_grayed.format)\n",
        "print(image_grayed.mode)"
      ],
      "metadata": {
        "id": "9e1nNm77DhJ1"
      },
      "execution_count": null,
      "outputs": []
    },
    {
      "cell_type": "markdown",
      "source": [
        "## For Gray Scale Image:"
      ],
      "metadata": {
        "id": "LBTjmdSJD04p"
      }
    },
    {
      "cell_type": "code",
      "source": [
        "width, height = image_grayed.size\n",
        "channels = len(image_grayed.getbands())\n",
        "\n",
        "\n",
        "\n",
        "print(f\"Image shape (gray): ({height}, {width}, {channels})\")\n",
        "\n",
        "\n",
        "image_size_grayed = width * height * 1\n",
        "print(f\"Image size (gray): {image_size_grayed}\")"
      ],
      "metadata": {
        "id": "UbLVVMdDDj1Q"
      },
      "execution_count": null,
      "outputs": []
    },
    {
      "cell_type": "markdown",
      "source": [
        "## For Colored Image:"
      ],
      "metadata": {
        "id": "anwqvqH5Dvx5"
      }
    },
    {
      "cell_type": "code",
      "source": [
        "width, height = image_colored.size\n",
        "channels = len(image_colored.getbands())  # For RGB, it will be 3\n",
        "\n",
        "\n",
        "print(f\"Image shape (RGB): ({height}, {width}, {channels})\")\n",
        "\n",
        "image_size_colored = width * height * 3\n",
        "print(f\"Image size (RGB): {image_size_colored}\")"
      ],
      "metadata": {
        "id": "N7LOBXfYDncU"
      },
      "execution_count": null,
      "outputs": []
    },
    {
      "cell_type": "markdown",
      "source": [
        "## Converting into numpy"
      ],
      "metadata": {
        "id": "hkS_Nd66D7SX"
      }
    },
    {
      "cell_type": "code",
      "source": [
        "import numpy as np\n",
        "image_array_colored = np.array(image_colored)\n",
        "image_array_colored.shape"
      ],
      "metadata": {
        "id": "PwjbJEGvD6jK"
      },
      "execution_count": null,
      "outputs": []
    },
    {
      "cell_type": "code",
      "source": [
        "image_array_grayed = np.array(image_grayed)\n",
        "image_array_grayed.shape"
      ],
      "metadata": {
        "id": "CEv-X95_D_Pw"
      },
      "execution_count": null,
      "outputs": []
    },
    {
      "cell_type": "markdown",
      "source": [
        "## Accessing individual channels"
      ],
      "metadata": {
        "id": "zzTvnFOQECTS"
      }
    },
    {
      "cell_type": "code",
      "source": [
        "red_channel = image_array_colored [: , : , 0] # Red channel\n",
        "print( red_channel )\n",
        "display( red_channel )"
      ],
      "metadata": {
        "id": "dGCs48Q9EEVh"
      },
      "execution_count": null,
      "outputs": []
    },
    {
      "cell_type": "code",
      "source": [
        "red_channel = image_array_colored.copy()\n",
        "red_channel [ : , : , 1 ] = 0\n",
        "red_channel [ : , : , 2 ] = 0\n",
        "print( red_channel )\n",
        "display( red_channel )"
      ],
      "metadata": {
        "id": "fYJNpjCOEG1I"
      },
      "execution_count": null,
      "outputs": []
    },
    {
      "cell_type": "code",
      "source": [
        "green_channel = image_array_colored.copy()\n",
        "green_channel [ : , : , 0 ] = 0\n",
        "green_channel [ : , : , 2 ] = 0\n",
        "print( green_channel )\n",
        "display( green_channel )"
      ],
      "metadata": {
        "id": "H2SV-QAmEJ4R"
      },
      "execution_count": null,
      "outputs": []
    },
    {
      "cell_type": "code",
      "source": [
        "blue_channel = image_array_colored.copy()\n",
        "blue_channel [ : , : , 0 ] = 0\n",
        "blue_channel [ : , : , 1 ] = 0\n",
        "print( blue_channel )\n",
        "display( blue_channel )"
      ],
      "metadata": {
        "id": "U9V3BP_4END1"
      },
      "execution_count": null,
      "outputs": []
    },
    {
      "cell_type": "markdown",
      "source": [
        "## Extracting Colored Channels with NumPy Array."
      ],
      "metadata": {
        "id": "gtvFbWXfERK_"
      }
    },
    {
      "cell_type": "code",
      "source": [
        "blue_channel = image_array_colored [: , : , 2] # Blue channel\n",
        "print( blue_channel )\n",
        "display( blue_channel )"
      ],
      "metadata": {
        "id": "7MroV5m_ETyC"
      },
      "execution_count": null,
      "outputs": []
    },
    {
      "cell_type": "markdown",
      "source": [
        "## Extracting Colored Channels Using PIL."
      ],
      "metadata": {
        "id": "rCUsMqa0EXY9"
      }
    },
    {
      "cell_type": "code",
      "source": [
        "image_colored = Image.open(\"/content/drive/MyDrive/ai and ml/Lenna_(test_image).png\").convert('RGB')\n",
        "r, g, b = image_colored.split()\n",
        "display(r)\n",
        "display(g)\n",
        "display(b)"
      ],
      "metadata": {
        "id": "GF61OCn3EX7K"
      },
      "execution_count": null,
      "outputs": []
    },
    {
      "cell_type": "markdown",
      "source": [
        "## Extracting Sub Images from an Image Array."
      ],
      "metadata": {
        "id": "r4BdZLsWEg_3"
      }
    },
    {
      "cell_type": "code",
      "source": [
        "row_100 = image_array_colored[100,:,:]\n",
        "print(row_100)"
      ],
      "metadata": {
        "id": "uZyTiICzEi4X"
      },
      "execution_count": null,
      "outputs": []
    },
    {
      "cell_type": "code",
      "source": [
        "col_50 = image_array_colored[:,50,:]\n",
        "print(col_50)"
      ],
      "metadata": {
        "id": "vvffBI14Ek2X"
      },
      "execution_count": null,
      "outputs": []
    },
    {
      "cell_type": "code",
      "source": [
        "pixel = image_array_colored[10,50,:]\n",
        "print(pixel)"
      ],
      "metadata": {
        "id": "PgwI89qLEnnk"
      },
      "execution_count": null,
      "outputs": []
    },
    {
      "cell_type": "markdown",
      "source": [
        "## Extracting Sub Images(cropping) Using PIL\n"
      ],
      "metadata": {
        "id": "R1qHXVr1Eq0I"
      }
    },
    {
      "cell_type": "code",
      "source": [
        "left = 100\n",
        "upper = 50\n",
        "right = 200\n",
        "lower = 150\n",
        "cropped_image = image_colored . crop (( left , upper , right , lower ) )\n",
        "display(cropped_image )"
      ],
      "metadata": {
        "id": "CUXcnLtKErVE"
      },
      "execution_count": null,
      "outputs": []
    },
    {
      "cell_type": "markdown",
      "source": [
        "## Saving NumPy Array to Image."
      ],
      "metadata": {
        "id": "_tYAYa-DEvwv"
      }
    },
    {
      "cell_type": "code",
      "source": [
        "image_array = np . zeros ((100 , 100 , 3) , dtype = np.uint8 )\n",
        "image_from_array = Image . fromarray ( image_array )\n",
        "image_from_array . show ()"
      ],
      "metadata": {
        "id": "XCHeOgdwEyXM"
      },
      "execution_count": null,
      "outputs": []
    },
    {
      "cell_type": "code",
      "source": [
        "image_from_array.save(\"output_image.jpg\")"
      ],
      "metadata": {
        "id": "7aRTI0PwE05r"
      },
      "execution_count": null,
      "outputs": []
    },
    {
      "cell_type": "markdown",
      "source": [
        "# PCA"
      ],
      "metadata": {
        "id": "Sw2KljLCE3hY"
      }
    },
    {
      "cell_type": "code",
      "source": [
        "import numpy as np\n",
        "import matplotlib.pyplot as plt\n",
        "from PIL import Image\n",
        "\n",
        "\n",
        "image = Image.open(\"/content/drive/MyDrive/ai and ml/cameraman.png\").convert(\"L\")\n",
        "\n",
        "\n",
        "image_array = np.array(image)\n",
        "print(image_array.shape)\n",
        "\n",
        "\n",
        "\n",
        "height, width = image_array.shape\n",
        "\n",
        "\n",
        "#data = image_array.reshape( height , width )\n",
        "data = image_array.copy()\n",
        "\n",
        "\n",
        "\n",
        "plt.imshow(image_array, cmap='gray')\n",
        "plt.show()\n"
      ],
      "metadata": {
        "id": "6mUJIITnE5nt"
      },
      "execution_count": null,
      "outputs": []
    },
    {
      "cell_type": "code",
      "source": [
        "# Compute the mean of each column ( feature )\n",
        "mean = np.mean( data , axis =0)\n",
        "# Subtract mean to center the data\n",
        "centered_data = data - mean\n",
        "centered_data = centered_data"
      ],
      "metadata": {
        "id": "GS3zuMPFE8IU"
      },
      "execution_count": null,
      "outputs": []
    },
    {
      "cell_type": "code",
      "source": [
        "centered_data.shape"
      ],
      "metadata": {
        "id": "tizEAXpnE-G1"
      },
      "execution_count": null,
      "outputs": []
    },
    {
      "cell_type": "code",
      "source": [
        "cov_matrix = np.cov(centered_data, rowvar=False)"
      ],
      "metadata": {
        "id": "D0tPEYoNFANl"
      },
      "execution_count": null,
      "outputs": []
    },
    {
      "cell_type": "code",
      "source": [
        "cov_matrix.shape"
      ],
      "metadata": {
        "id": "PXPY31PRFCGl"
      },
      "execution_count": null,
      "outputs": []
    },
    {
      "cell_type": "code",
      "source": [
        "eigenvalues, eigenvectors = np.linalg.eigh(cov_matrix)\n",
        "\n",
        "sorted_indices = np.argsort(eigenvalues)[::-1]\n",
        "eigenvalues = eigenvalues[sorted_indices]\n",
        "eigenvectors = eigenvectors[:, sorted_indices]"
      ],
      "metadata": {
        "id": "Y_YSOl1QFEgF"
      },
      "execution_count": null,
      "outputs": []
    },
    {
      "cell_type": "code",
      "source": [
        "explained_variance_ratio = eigenvalues / np .sum ( eigenvalues )\n",
        "plt.plot ( np . cumsum ( explained_variance_ratio ) )\n",
        "plt.title (\" Cumulative Explained Variance \")\n",
        "plt.xlabel (\" Number of Components \")\n",
        "plt.ylabel (\" Cumulative Explained Variance \")\n",
        "plt.grid ( True )\n",
        "plt.show ()"
      ],
      "metadata": {
        "id": "tIcJepdrFHy-"
      },
      "execution_count": null,
      "outputs": []
    },
    {
      "cell_type": "code",
      "source": [
        "k = 40 # Choose k principal components\n",
        "components = eigenvectors [: , : k ]"
      ],
      "metadata": {
        "id": "a4UbcA_eFKWU"
      },
      "execution_count": null,
      "outputs": []
    },
    {
      "cell_type": "code",
      "source": [
        "compressed_data = np . dot ( centered_data , components )"
      ],
      "metadata": {
        "id": "WGzAx0z0FMkJ"
      },
      "execution_count": null,
      "outputs": []
    },
    {
      "cell_type": "code",
      "source": [
        "decompressed_data = np . dot ( compressed_data , components . T ) + mean"
      ],
      "metadata": {
        "id": "3AmcAfyiFOjl"
      },
      "execution_count": null,
      "outputs": []
    },
    {
      "cell_type": "code",
      "source": [
        "plt . figure ( figsize =(12 , 6) )\n",
        "# Original Image\n",
        "plt.subplot (1 , 3 , 1)\n",
        "plt.imshow ( image_array , cmap =\"gray\")\n",
        "plt.title (\" Original Image \")\n",
        "plt.axis (\"off\")\n",
        "# Compressed Representation\n",
        "plt.subplot (1 , 3 , 2)\n",
        "plt.imshow ( compressed_data , cmap =\"gray\", aspect =\"auto\")\n",
        "plt.title ( f\" Compressed Image (k={k})\")\n",
        "plt.axis (\"off\")\n",
        "# Decompressed Image\n",
        "plt.subplot (1 , 3 , 3)\n",
        "plt.imshow ( decompressed_data , cmap =\"gray\")\n",
        "plt.title (\" Decompressed Image \")\n",
        "plt.axis (\"off\")\n",
        "plt.tight_layout()\n",
        "plt.show()"
      ],
      "metadata": {
        "id": "o8XSmR1xFQg_"
      },
      "execution_count": null,
      "outputs": []
    }
  ]
}