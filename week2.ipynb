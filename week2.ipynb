{
  "cells": [
    {
      "cell_type": "markdown",
      "metadata": {
        "id": "8X21xVB2UGrb"
      },
      "source": [
        "# Data Preprocessing Lab\n",
        "\n",
        "\n",
        ">To build a proper machine learning model we need clean data. However, almost all the datasets are dirty due to noise, outliers. It is also important to know the data to use the appropriate machine learning algorithm. Thus, in this exercise, we will try to explore the data, clean the data, find\n",
        "insights, and finally train machine learning models.\n",
        "\n",
        "1. There are so many data cleaning techniques, however, we will only focus on the most basic operations\n",
        "\n",
        "2. There are some questions prepared for you to answer. Please double click on those cells and answer them.\n",
        "\n",
        "3. To do this workshop you may use any IDE of your choice such as jupyter notebook, google colab or even VS code. However, it is recommended to avoid using tools that utilizes AI featuers such as auto code generation."
      ]
    },
    {
      "cell_type": "markdown",
      "metadata": {
        "id": "34T5DoYZXCff"
      },
      "source": [
        "# Datasets Information\n",
        "\n",
        "It is very important to undertand what kind of data we are dealing with before jumping into actual coding. The following things are to be taken into consideration before EDA and Model Training :\n",
        "\n",
        "1. Understanding Data Source & Reliability\n",
        "\n",
        "2. Understanding Features & Their Role\n",
        "\n",
        "3. Ensuring Data Relevance for the Problem\n",
        "\n"
      ]
    },
    {
      "cell_type": "markdown",
      "metadata": {
        "id": "nTPMMF30XLLO"
      },
      "source": [
        "## Dataset 1 : **Medical Students**\n",
        "\n",
        "* About Dataset\n",
        "\n",
        "> The dataset can be used for various purposes, including :\n",
        "\n",
        "1. Medical research and analysis to identify patterns, trends, and correlations in patient data.\n",
        "Developing predictive models for diagnosing diseases, predicting treatment outcomes, and identifying at-risk patients.\n",
        "\n",
        "2. Evaluating the effectiveness of different medical interventions and treatment protocols.\n",
        "\n",
        "3. Training machine learning algorithms for medical imaging analysis, disease classification, and patient risk stratification.\n",
        "\n",
        "> The dataset consists of the following columns:\n",
        "\n",
        "*  *StudentID:* Unique identifier for each medical student.\n",
        "\n",
        "*  *Age:* Age of the student in years.\n",
        "\n",
        "* *Gender:* Gender of the student (e.g., Male, Female).\n",
        "\n",
        "* *Height:* Height of the student in cm.\n",
        "\n",
        "* *Weight:* Weight of the student in kg.\n",
        "\n",
        "* *Blood Type:* The student's blood group (e.g., A, B, O).\n",
        "\n",
        "* *BMI:* The Body Mass Index, calculated from height and weight.\n",
        "\n",
        "* *Temperature:* The student's body temperature in degrees Celsius.\n",
        "\n",
        "* *Heart Rate:* The number of heartbeats per minute.\n",
        "\n",
        "* *Blood Pressure:* The student's systolic blood pressure measurement.\n",
        "\n",
        "* *Cholesterol:* The student's cholesterol level in mg/dL.\n",
        "\n",
        "* *Diabetes:* Indicates whether the student has diabetes (Yes/No).\n",
        "\n",
        "* *Smoking* Indicates whether the student is a smoker (Yes/No).\n"
      ]
    },
    {
      "cell_type": "code",
      "execution_count": null,
      "metadata": {
        "colab": {
          "base_uri": "https://localhost:8080/"
        },
        "id": "BPDy1eZ3xDfY",
        "outputId": "e9fb351b-7ff6-4708-934f-4081f0a76c3b"
      },
      "outputs": [
        {
          "name": "stdout",
          "output_type": "stream",
          "text": [
            "Mounted at /content/drive\n"
          ]
        }
      ],
      "source": [
        "# # Connect Google Drive to Google Colab\n",
        "# from google.colab import drive\n",
        "# drive.mount('/content/drive')"
      ]
    },
    {
      "cell_type": "markdown",
      "metadata": {
        "id": "t-uAlhw-sJfr"
      },
      "source": [
        "# Part I"
      ]
    },
    {
      "cell_type": "markdown",
      "metadata": {
        "id": "u4lYwVbgsPQT"
      },
      "source": [
        "### 1. Import Necessary Libraries/Dependencies"
      ]
    },
    {
      "cell_type": "markdown",
      "metadata": {
        "id": "dundMA7HCsOe"
      },
      "source": [
        "> In the below cell, you are required to import all the necessary dependencies such as pandas, matplotlib as well as seaborn."
      ]
    },
    {
      "cell_type": "code",
      "execution_count": null,
      "metadata": {
        "id": "65jduiHSsVjU"
      },
      "outputs": [],
      "source": [
        "# Importing the pandas library, used for data manipulation and analysis\n",
        "import pandas as pd\n",
        "# Importing the numpy library, used for numerical operations and working with arrays\n",
        "import numpy as np\n",
        "# Importing the seaborn library, used for statistical data visualization\n",
        "import seaborn as sns\n",
        "# Importing the pyplot module from matplotlib, used for creating static, interactive, and animated visualizations\n",
        "import matplotlib.pyplot as plt"
      ]
    },
    {
      "cell_type": "markdown",
      "metadata": {
        "id": "bkd3N5nLsxaV"
      },
      "source": [
        "### 2. Load our dataset"
      ]
    },
    {
      "cell_type": "markdown",
      "metadata": {
        "id": "kTnT72RvDpnj"
      },
      "source": [
        "> In the below, cell you are required to load our dataset into a pandas dataframe."
      ]
    },
    {
      "cell_type": "code",
      "execution_count": null,
      "metadata": {
        "id": "uuVzHILRsdU8"
      },
      "outputs": [],
      "source": [
        "# Lod the dataset (CSV file)\n",
        "df1 = pd.read_csv(\"sample_medical_students_dataset.csv\") # csv filename : sample_medical_students_dataset.csv"
      ]
    },
    {
      "cell_type": "code",
      "execution_count": null,
      "metadata": {
        "id": "7MG9D6yci9Ad",
        "outputId": "49391fff-cac2-4bae-d5fb-24a3fff617f6"
      },
      "outputs": [
        {
          "data": {
            "text/html": [
              "<div>\n",
              "<style scoped>\n",
              "    .dataframe tbody tr th:only-of-type {\n",
              "        vertical-align: middle;\n",
              "    }\n",
              "\n",
              "    .dataframe tbody tr th {\n",
              "        vertical-align: top;\n",
              "    }\n",
              "\n",
              "    .dataframe thead th {\n",
              "        text-align: right;\n",
              "    }\n",
              "</style>\n",
              "<table border=\"1\" class=\"dataframe\">\n",
              "  <thead>\n",
              "    <tr style=\"text-align: right;\">\n",
              "      <th></th>\n",
              "      <th>Student ID</th>\n",
              "      <th>Age</th>\n",
              "      <th>Gender</th>\n",
              "      <th>Height</th>\n",
              "      <th>Weight</th>\n",
              "      <th>Blood Type</th>\n",
              "      <th>BMI</th>\n",
              "      <th>Temperature</th>\n",
              "      <th>Heart Rate</th>\n",
              "      <th>Blood Pressure</th>\n",
              "      <th>Cholesterol</th>\n",
              "      <th>Diabetes</th>\n",
              "      <th>Smoking</th>\n",
              "    </tr>\n",
              "  </thead>\n",
              "  <tbody>\n",
              "    <tr>\n",
              "      <th>0</th>\n",
              "      <td>48419.0</td>\n",
              "      <td>34.0</td>\n",
              "      <td>Male</td>\n",
              "      <td>172.793930</td>\n",
              "      <td>43.761668</td>\n",
              "      <td>O</td>\n",
              "      <td>14.656724</td>\n",
              "      <td>99.080335</td>\n",
              "      <td>92.0</td>\n",
              "      <td>118.0</td>\n",
              "      <td>167.0</td>\n",
              "      <td>Yes</td>\n",
              "      <td>No</td>\n",
              "    </tr>\n",
              "    <tr>\n",
              "      <th>1</th>\n",
              "      <td>64979.0</td>\n",
              "      <td>25.0</td>\n",
              "      <td>Female</td>\n",
              "      <td>155.370924</td>\n",
              "      <td>53.658217</td>\n",
              "      <td>AB</td>\n",
              "      <td>22.227813</td>\n",
              "      <td>98.238156</td>\n",
              "      <td>67.0</td>\n",
              "      <td>98.0</td>\n",
              "      <td>124.0</td>\n",
              "      <td>No</td>\n",
              "      <td>No</td>\n",
              "    </tr>\n",
              "    <tr>\n",
              "      <th>2</th>\n",
              "      <td>37531.0</td>\n",
              "      <td>24.0</td>\n",
              "      <td>Male</td>\n",
              "      <td>177.065466</td>\n",
              "      <td>41.897201</td>\n",
              "      <td>B</td>\n",
              "      <td>13.363410</td>\n",
              "      <td>99.243096</td>\n",
              "      <td>79.0</td>\n",
              "      <td>126.0</td>\n",
              "      <td>223.0</td>\n",
              "      <td>No</td>\n",
              "      <td>Yes</td>\n",
              "    </tr>\n",
              "    <tr>\n",
              "      <th>3</th>\n",
              "      <td>36473.0</td>\n",
              "      <td>34.0</td>\n",
              "      <td>Male</td>\n",
              "      <td>187.403636</td>\n",
              "      <td>83.172918</td>\n",
              "      <td>AB</td>\n",
              "      <td>23.682411</td>\n",
              "      <td>98.462143</td>\n",
              "      <td>65.0</td>\n",
              "      <td>95.0</td>\n",
              "      <td>160.0</td>\n",
              "      <td>No</td>\n",
              "      <td>No</td>\n",
              "    </tr>\n",
              "    <tr>\n",
              "      <th>4</th>\n",
              "      <td>13960.0</td>\n",
              "      <td>29.0</td>\n",
              "      <td>Male</td>\n",
              "      <td>NaN</td>\n",
              "      <td>92.665678</td>\n",
              "      <td>AB</td>\n",
              "      <td>35.423958</td>\n",
              "      <td>98.450508</td>\n",
              "      <td>75.0</td>\n",
              "      <td>111.0</td>\n",
              "      <td>163.0</td>\n",
              "      <td>No</td>\n",
              "      <td>No</td>\n",
              "    </tr>\n",
              "  </tbody>\n",
              "</table>\n",
              "</div>"
            ],
            "text/plain": [
              "   Student ID   Age  Gender      Height     Weight Blood Type        BMI  \\\n",
              "0     48419.0  34.0    Male  172.793930  43.761668          O  14.656724   \n",
              "1     64979.0  25.0  Female  155.370924  53.658217         AB  22.227813   \n",
              "2     37531.0  24.0    Male  177.065466  41.897201          B  13.363410   \n",
              "3     36473.0  34.0    Male  187.403636  83.172918         AB  23.682411   \n",
              "4     13960.0  29.0    Male         NaN  92.665678         AB  35.423958   \n",
              "\n",
              "   Temperature  Heart Rate  Blood Pressure  Cholesterol Diabetes Smoking  \n",
              "0    99.080335        92.0           118.0        167.0      Yes      No  \n",
              "1    98.238156        67.0            98.0        124.0       No      No  \n",
              "2    99.243096        79.0           126.0        223.0       No     Yes  \n",
              "3    98.462143        65.0            95.0        160.0       No      No  \n",
              "4    98.450508        75.0           111.0        163.0       No      No  "
            ]
          },
          "execution_count": 4,
          "metadata": {},
          "output_type": "execute_result"
        }
      ],
      "source": [
        "df1.head()"
      ]
    },
    {
      "cell_type": "code",
      "execution_count": null,
      "metadata": {
        "id": "OnuPWktdi9Ad",
        "outputId": "3f5faadb-f850-463d-ccb9-de981b9e0e7f"
      },
      "outputs": [
        {
          "data": {
            "text/plain": [
              "<bound method NDFrame.describe of        Student ID   Age  Gender      Height     Weight Blood Type        BMI  \\\n",
              "0         48419.0  34.0    Male  172.793930  43.761668          O  14.656724   \n",
              "1         64979.0  25.0  Female  155.370924  53.658217         AB  22.227813   \n",
              "2         37531.0  24.0    Male  177.065466  41.897201          B  13.363410   \n",
              "3         36473.0  34.0    Male  187.403636  83.172918         AB  23.682411   \n",
              "4         13960.0  29.0    Male         NaN  92.665678         AB  35.423958   \n",
              "...           ...   ...     ...         ...        ...        ...        ...   \n",
              "49995     52809.0  33.0  Female         NaN  72.973008          O  18.804771   \n",
              "49996     34144.0  34.0    Male  173.843052  59.836725          A  19.799451   \n",
              "49997     95372.0  31.0    Male  192.654813  43.285808          O  11.662343   \n",
              "49998     80831.0  26.0  Female  190.928618  82.884013         AB  22.736767   \n",
              "49999     34121.0  28.0  Female  174.931943  52.251282          A  17.074921   \n",
              "\n",
              "       Temperature  Heart Rate  Blood Pressure  Cholesterol Diabetes Smoking  \n",
              "0        99.080335        92.0           118.0        167.0      Yes      No  \n",
              "1        98.238156        67.0            98.0        124.0       No      No  \n",
              "2        99.243096        79.0           126.0        223.0       No     Yes  \n",
              "3        98.462143        65.0            95.0        160.0       No      No  \n",
              "4        98.450508        75.0           111.0        163.0       No      No  \n",
              "...            ...         ...             ...          ...      ...     ...  \n",
              "49995    99.480695        84.0           100.0        237.0       No      No  \n",
              "49996    97.634414        69.0           127.0        125.0      Yes      No  \n",
              "49997    98.717270        69.0           127.0        158.0       No     Yes  \n",
              "49998    98.891161        85.0           104.0        137.0       No      No  \n",
              "49999    98.389397        93.0           103.0        207.0       No     Yes  \n",
              "\n",
              "[50000 rows x 13 columns]>"
            ]
          },
          "execution_count": 5,
          "metadata": {},
          "output_type": "execute_result"
        }
      ],
      "source": [
        "df1.describe"
      ]
    },
    {
      "cell_type": "code",
      "execution_count": null,
      "metadata": {
        "id": "3CROuyQKi9Ad"
      },
      "outputs": [],
      "source": []
    },
    {
      "cell_type": "markdown",
      "metadata": {
        "id": "RBRZ4XbptBon"
      },
      "source": [
        "### 3. Data Analysis"
      ]
    },
    {
      "cell_type": "markdown",
      "metadata": {
        "id": "JT12B-yFD55M"
      },
      "source": [
        "> Print the list feature names of our loaded dataset."
      ]
    },
    {
      "cell_type": "code",
      "execution_count": null,
      "metadata": {
        "id": "JQyf37cWuWJq"
      },
      "outputs": [],
      "source": [
        "# Get column names of the DataFrame\n",
        "# Your code here"
      ]
    },
    {
      "cell_type": "markdown",
      "metadata": {
        "id": "T9l3DQaxEipf"
      },
      "source": [
        "> Print the shape of our dataset (number of rows and columns)"
      ]
    },
    {
      "cell_type": "code",
      "execution_count": null,
      "metadata": {
        "id": "VrVdtPIIqwuc"
      },
      "outputs": [],
      "source": [
        "# Check the shape of our dataset\n",
        "# Your code here"
      ]
    },
    {
      "cell_type": "markdown",
      "metadata": {
        "id": "rVasySUIFLCy"
      },
      "source": [
        "> Display the first 5 rows of our dataset. *Hint : head() method*"
      ]
    },
    {
      "cell_type": "code",
      "execution_count": null,
      "metadata": {
        "id": "pgxTTKpcudEK"
      },
      "outputs": [],
      "source": [
        "# Your code here"
      ]
    },
    {
      "cell_type": "markdown",
      "metadata": {
        "id": "5H-rssNcFf68"
      },
      "source": [
        "> Display 5 random rows of our dataset. *Hint : sample() method*"
      ]
    },
    {
      "cell_type": "code",
      "execution_count": null,
      "metadata": {
        "id": "oEqG3M2vuqjj"
      },
      "outputs": [],
      "source": [
        "# Your code here"
      ]
    },
    {
      "cell_type": "markdown",
      "metadata": {
        "id": "9_KtsNZqGbPA"
      },
      "source": [
        "> Check datatypes of each columns. *Hint : dtypes*"
      ]
    },
    {
      "cell_type": "code",
      "execution_count": null,
      "metadata": {
        "id": "tfqu3Dke9Z46"
      },
      "outputs": [],
      "source": [
        "# Your code here"
      ]
    },
    {
      "cell_type": "markdown",
      "metadata": {
        "id": "pWcI_dzS9qyp"
      },
      "source": [
        "> How many of our features are numerical and categorical ? Write a python code to fill the below 2 empty lists.\n",
        "\n",
        "* num_cols : should contain name of columns with numerical data type.\n",
        "\n",
        "* cat_cols : should contain name of columns with categorical data type.\n"
      ]
    },
    {
      "cell_type": "code",
      "execution_count": null,
      "metadata": {
        "id": "7RBPauD21T4K"
      },
      "outputs": [],
      "source": [
        "num_cols = []\n",
        "cat_cols = []\n",
        "\n",
        "# Your code here\n"
      ]
    },
    {
      "cell_type": "code",
      "execution_count": null,
      "metadata": {
        "id": "GPVuMCww1-ka"
      },
      "outputs": [],
      "source": [
        "print(\"Numerical columns : \", num_cols)\n",
        "print(\"Categorical columns : \", cat_cols)\n",
        "print(\"Number of numerical columns : \", len(num_cols))\n",
        "print(\"Number of categorcal columns : \", len(cat_cols))"
      ]
    },
    {
      "cell_type": "markdown",
      "metadata": {
        "id": "AQ8FP11CNFY3"
      },
      "source": [
        "> Generate summary statistics our data that includes measurements like count, mean, standard deviation, minimum, maximum, and quartiles. *Hint : describe() method*"
      ]
    },
    {
      "cell_type": "code",
      "execution_count": null,
      "metadata": {
        "id": "aeO88kUfqDx4"
      },
      "outputs": [],
      "source": [
        "# Print some statistical measurements of our numerical columns\n",
        "# Your code here"
      ]
    },
    {
      "cell_type": "markdown",
      "metadata": {
        "id": "oer83t8fO13h"
      },
      "source": [
        "> For categorical columns, we will check how many unique classes they have and how frequently each class appears in the dataset."
      ]
    },
    {
      "cell_type": "markdown",
      "metadata": {
        "id": "zcE2im5DPMBO"
      },
      "source": [
        "> Below is an example of one categorical class - Gender"
      ]
    },
    {
      "cell_type": "code",
      "execution_count": null,
      "metadata": {
        "colab": {
          "base_uri": "https://localhost:8080/",
          "height": 178
        },
        "id": "ZZAx03alPSeB",
        "outputId": "0c77512f-763b-493a-ec20-3d42ae914ae9"
      },
      "outputs": [
        {
          "data": {
            "text/html": [
              "<div>\n",
              "<style scoped>\n",
              "    .dataframe tbody tr th:only-of-type {\n",
              "        vertical-align: middle;\n",
              "    }\n",
              "\n",
              "    .dataframe tbody tr th {\n",
              "        vertical-align: top;\n",
              "    }\n",
              "\n",
              "    .dataframe thead th {\n",
              "        text-align: right;\n",
              "    }\n",
              "</style>\n",
              "<table border=\"1\" class=\"dataframe\">\n",
              "  <thead>\n",
              "    <tr style=\"text-align: right;\">\n",
              "      <th></th>\n",
              "      <th>count</th>\n",
              "    </tr>\n",
              "    <tr>\n",
              "      <th>Gender</th>\n",
              "      <th></th>\n",
              "    </tr>\n",
              "  </thead>\n",
              "  <tbody>\n",
              "    <tr>\n",
              "      <th>Female</th>\n",
              "      <td>24481</td>\n",
              "    </tr>\n",
              "    <tr>\n",
              "      <th>Male</th>\n",
              "      <td>24411</td>\n",
              "    </tr>\n",
              "  </tbody>\n",
              "</table>\n",
              "</div><br><label><b>dtype:</b> int64</label>"
            ],
            "text/plain": [
              "Gender\n",
              "Female    24481\n",
              "Male      24411\n",
              "Name: count, dtype: int64"
            ]
          },
          "execution_count": 12,
          "metadata": {},
          "output_type": "execute_result"
        }
      ],
      "source": [
        "# Count the occurrences of each unique value in the 'Gender' column of the DataFrame 'df1'\n",
        "df1['Gender'].value_counts()"
      ]
    },
    {
      "cell_type": "markdown",
      "metadata": {
        "id": "y38LX6nwPW47"
      },
      "source": [
        "> Similarly do for the other categorical columns. *Hint : You might wana use the list you created for storing the categorical columns*"
      ]
    },
    {
      "cell_type": "code",
      "execution_count": null,
      "metadata": {
        "id": "FExcMR_50z8Q"
      },
      "outputs": [],
      "source": [
        "# Your code here\n"
      ]
    },
    {
      "cell_type": "markdown",
      "metadata": {
        "id": "nVhocRoq45UD"
      },
      "source": [
        "### 4. Cleaning Data"
      ]
    },
    {
      "cell_type": "markdown",
      "metadata": {
        "id": "r0ifCTKePv47"
      },
      "source": [
        "> Removing column 'Student ID' as it's not relevant for our analysis or modeling"
      ]
    },
    {
      "cell_type": "code",
      "execution_count": null,
      "metadata": {
        "id": "7tMZuav2VcsR"
      },
      "outputs": [],
      "source": [
        "# remove student Id column as it's not relevant for our analysis or modeling\n",
        "df1.drop(columns=[\"Student ID\"], inplace=True)"
      ]
    },
    {
      "cell_type": "markdown",
      "metadata": {
        "id": "y5ddNU-pQ3R3"
      },
      "source": [
        "> Check how many rows are duplicated. *Hint : duplicated() and sum() method*"
      ]
    },
    {
      "cell_type": "code",
      "execution_count": null,
      "metadata": {
        "id": "xGsDKQnauH-G"
      },
      "outputs": [],
      "source": [
        "# check for duplicate data\n",
        "# Your code here"
      ]
    },
    {
      "cell_type": "markdown",
      "metadata": {
        "id": "u-B_7C5QQ-Jv"
      },
      "source": [
        "> Drop duplicate rows. *Hint : drop_duplicates() method*"
      ]
    },
    {
      "cell_type": "code",
      "execution_count": null,
      "metadata": {
        "id": "IpAP_sx2JxcI"
      },
      "outputs": [],
      "source": [
        "# drop duplicate rows\n",
        "print(f\"Rows before removing duplicates: {df1.shape[0]}\")\n",
        "# Your code here\n",
        "print(f\"Rows after removing duplicates: {df1.shape[0]}\")"
      ]
    },
    {
      "cell_type": "markdown",
      "metadata": {
        "id": "KD0JqjeSRVwN"
      },
      "source": [
        "> Check for null data. *Hint : isnull() and sum() method*"
      ]
    },
    {
      "cell_type": "code",
      "execution_count": null,
      "metadata": {
        "id": "qcjdFOay4Pj5"
      },
      "outputs": [],
      "source": [
        "# Check for null data\n",
        "# Your code here"
      ]
    },
    {
      "cell_type": "markdown",
      "metadata": {
        "id": "AcQRObBlRgse"
      },
      "source": [
        "> If null data are found we need to handle them accordingly. we can consider applying one of the below approaches:\n",
        "\n",
        "\n",
        "1. Remove Rows with Missing Values\n",
        "\n",
        "2. Fill Missing Values with mean, meadian or mode."
      ]
    },
    {
      "cell_type": "markdown",
      "metadata": {
        "id": "9lk4QiOE-37h"
      },
      "source": [
        "> *However, to complete this workshop you are required to take the second approach which means filling the null values with mean or median if the column is numerical or mode if it is categorical.*"
      ]
    },
    {
      "cell_type": "markdown",
      "metadata": {
        "id": "LIyskDmkVTsZ"
      },
      "source": [
        "**Note :** We use the mean to fill missing values in numerical columns when there are no outliers. If the column contains outliers, we use the median instead, as it is less affected by extreme values."
      ]
    },
    {
      "cell_type": "code",
      "execution_count": null,
      "metadata": {
        "colab": {
          "base_uri": "https://localhost:8080/"
        },
        "id": "LpfShKXlVN3T",
        "outputId": "ac17bf85-84ed-4e9c-d823-ee7ae277c8e6"
      },
      "outputs": [
        {
          "data": {
            "text/plain": [
              "0"
            ]
          },
          "execution_count": 18,
          "metadata": {},
          "output_type": "execute_result"
        }
      ],
      "source": [
        "# example code to fill null values with mean\n",
        "df1.loc[:, 'Age'] = df1['Age'].fillna(df1['Age'].median())\n",
        "df1['Age'].isnull().sum()"
      ]
    },
    {
      "cell_type": "markdown",
      "metadata": {
        "id": "xsjBvAWGXmm4"
      },
      "source": [
        "> Similarly do it for other columns cotaining null data"
      ]
    },
    {
      "cell_type": "code",
      "execution_count": null,
      "metadata": {
        "id": "6M1iNWu4khk9"
      },
      "outputs": [],
      "source": [
        "# filling null values for numerical columns\n",
        "# Your code here"
      ]
    },
    {
      "cell_type": "code",
      "execution_count": null,
      "metadata": {
        "id": "7XfwuhOWk8qp"
      },
      "outputs": [],
      "source": [
        "# filling null values for categorical columns\n",
        "# Your code here"
      ]
    },
    {
      "cell_type": "code",
      "execution_count": null,
      "metadata": {
        "id": "CdxWtAg7m-4Y"
      },
      "outputs": [],
      "source": [
        "# Check for null data\n",
        "# Your code here"
      ]
    },
    {
      "cell_type": "markdown",
      "metadata": {
        "id": "K2d0-iGIN-rI"
      },
      "source": [
        "> Check for outliers in numerical columns"
      ]
    },
    {
      "cell_type": "markdown",
      "metadata": {
        "id": "VeGE9vErTxo_"
      },
      "source": [
        "* Outliers are data points that significantly differ from the rest of the dataset. They are unusually high or low values that do not follow the general pattern of the data.\n",
        "\n",
        "* For example, in a dataset of students' heights, if most students are between 150 cm and 180 cm, but there is a student with a height of 250 cm, that is likely an outlier.\n",
        "\n",
        "* Outliers needs to be handled as they can negatively impact machine learning models and statistical analysis.\n",
        "\n",
        "* There are 3 approches we can take to identify outliers:\n",
        "\n",
        "  1. Using Boxplots (Visualization)\n",
        "\n",
        "  2. Using IQR (Interquartile Range)\n",
        "\n",
        "  3. Using Z-score (Standard Deviation)\n"
      ]
    },
    {
      "cell_type": "markdown",
      "metadata": {
        "id": "DymN75uKVMwO"
      },
      "source": [
        "> For this workshop we are going to use the **IQR method** to detect outliers."
      ]
    },
    {
      "cell_type": "code",
      "execution_count": null,
      "metadata": {
        "colab": {
          "base_uri": "https://localhost:8080/"
        },
        "id": "7p2tb2ddSpeE",
        "outputId": "a8ab9256-067b-4362-d598-17abe223f7ef"
      },
      "outputs": [
        {
          "name": "stdout",
          "output_type": "stream",
          "text": [
            "Outliers detected using IQR method:\n",
            "Age: 0 outliers\n",
            "Height: 0 outliers\n",
            "Weight: 0 outliers\n",
            "BMI: 36 outliers\n",
            "Temperature: 305 outliers\n",
            "Heart Rate: 0 outliers\n",
            "Blood Pressure: 0 outliers\n",
            "Cholesterol: 0 outliers\n"
          ]
        }
      ],
      "source": [
        "num_cols.remove(\"Student ID\") # Removing 'Student ID' from the list.\n",
        "\n",
        "# Function to detect outliers using IQR\n",
        "def detect_outliers_iqr(df, columns):\n",
        "    outliers = {}\n",
        "    for col in columns:\n",
        "        Q1 = df[col].quantile(0.25)  # First quartile (25%)\n",
        "        Q3 = df[col].quantile(0.75)  # Third quartile (75%)\n",
        "        IQR = Q3 - Q1  # Interquartile range\n",
        "        lower_bound = Q1 - 1.5 * IQR\n",
        "        upper_bound = Q3 + 1.5 * IQR\n",
        "        outlier_count = ((df[col] < lower_bound) | (df[col] > upper_bound)).sum()\n",
        "        outliers[col] = outlier_count\n",
        "    return outliers\n",
        "\n",
        "# Detect outliers\n",
        "outliers_iqr = detect_outliers_iqr(df1, columns=num_cols)\n",
        "\n",
        "# Print number of outliers in each numerical column\n",
        "print(\"Outliers detected using IQR method:\")\n",
        "for col, count in outliers_iqr.items():\n",
        "    print(f\"{col}: {count} outliers\")"
      ]
    },
    {
      "cell_type": "markdown",
      "metadata": {
        "id": "NfqmCPCBWHF3"
      },
      "source": [
        "> Since BMI and Temperature have outliers, we can handle them by replacing outliers with the nearest valid values (min/max limits from IQR)"
      ]
    },
    {
      "cell_type": "code",
      "execution_count": null,
      "metadata": {
        "id": "xSQB_97bWRPO"
      },
      "outputs": [],
      "source": [
        "# Function to replace outliers with min/max based on IQR\n",
        "def replace_outliers_with_min_max(df, column):\n",
        "    Q1 = df[column].quantile(0.25)  # First quartile (25%)\n",
        "    Q3 = df[column].quantile(0.75)  # Third quartile (75%)\n",
        "    IQR = Q3 - Q1  # Interquartile range\n",
        "    lower_bound = Q1 - 1.5 * IQR\n",
        "    upper_bound = Q3 + 1.5 * IQR\n",
        "\n",
        "    # Replace lower outliers with the minimum valid value\n",
        "    df[column] = np.where(df[column] < lower_bound, lower_bound, df[column])\n",
        "\n",
        "    # Replace upper outliers with the maximum valid value\n",
        "    df[column] = np.where(df[column] > upper_bound, upper_bound, df[column])"
      ]
    },
    {
      "cell_type": "markdown",
      "metadata": {
        "id": "YpMwy1VRI0RZ"
      },
      "source": [
        "> Handle the outliers. *Hint : use the above replace_outliers_with_min_max() function*"
      ]
    },
    {
      "cell_type": "code",
      "execution_count": null,
      "metadata": {
        "id": "VML2oXKmIxsp"
      },
      "outputs": [],
      "source": [
        "# Apply to columns which have outliers\n",
        "# Your code here"
      ]
    },
    {
      "cell_type": "code",
      "execution_count": null,
      "metadata": {
        "id": "u7HJEaSpW54u"
      },
      "outputs": [],
      "source": [
        "# Again check for outliers\n",
        "outliers_iqr = detect_outliers_iqr(df1, columns=num_cols)\n",
        "# Print number of outliers in each numerical column\n",
        "print(\"Outliers detected using IQR method:\")\n",
        "for col, count in outliers_iqr.items():\n",
        "    print(f\"{col}: {count} outliers\")"
      ]
    },
    {
      "cell_type": "markdown",
      "metadata": {
        "id": "dUta0IbALRL5"
      },
      "source": [
        "### 5. Data Visualisation"
      ]
    },
    {
      "cell_type": "markdown",
      "metadata": {
        "id": "sVlwylTaL-KP"
      },
      "source": [
        "**Histogram of Age**\n",
        "\n",
        "* A histogram is a graphical representation of the distribution of a dataset.\n",
        "* It displays the frequency or count of data points that fall within certain ranges or bins.\n",
        "* A histogram shows us the frequency distribution of continuous variables."
      ]
    },
    {
      "cell_type": "code",
      "execution_count": null,
      "metadata": {
        "colab": {
          "base_uri": "https://localhost:8080/",
          "height": 472
        },
        "id": "bHhNIUajL9L3",
        "outputId": "95a8eefd-80e4-4c96-88e7-be3ce619b02a"
      },
      "outputs": [
        {
          "data": {
            "image/png": "[encoded data removed]",
            "text/plain": [
              "<Figure size 640x480 with 1 Axes>"
            ]
          },
          "metadata": {},
          "output_type": "display_data"
        }
      ],
      "source": [
        "# Histogram for Age\n",
        "plt.hist(df1['Age'], bins=10, color='skyblue', edgecolor='black')\n",
        "plt.title('Distribution of Age')\n",
        "plt.xlabel('Age')\n",
        "plt.ylabel('Frequency')\n",
        "plt.show()"
      ]
    },
    {
      "cell_type": "markdown",
      "metadata": {
        "id": "DR4_MKW_PkJb"
      },
      "source": [
        "> What is the most common age range (peak of the histogram) ?\n",
        "\n",
        "> Answer :"
      ]
    },
    {
      "cell_type": "markdown",
      "metadata": {
        "id": "YJQZX8FlMPs2"
      },
      "source": [
        "**Bar Plot for Gender Count**\n",
        "\n",
        "* Bar plots are used to represent categorical data with rectangular bars, where the length or height of each bar is proportional to the value of the category it represents.\n",
        "\n",
        "* They are ideal for comparing different categories (e.g., counts of different genders, countries, or product sales)."
      ]
    },
    {
      "cell_type": "code",
      "execution_count": null,
      "metadata": {
        "colab": {
          "base_uri": "https://localhost:8080/",
          "height": 472
        },
        "id": "BywDSjjqMR1O",
        "outputId": "3835daef-d793-413b-ceec-a26fbae52201"
      },
      "outputs": [
        {
          "data": {
            "image/png": "[encoded data removed]",
            "text/plain": [
              "<Figure size 640x480 with 1 Axes>"
            ]
          },
          "metadata": {},
          "output_type": "display_data"
        }
      ],
      "source": [
        "# Bar plot for Gender\n",
        "gender_counts = df1['Gender'].value_counts()\n",
        "plt.bar(gender_counts.index, gender_counts.values, color=['skyblue', 'salmon'])\n",
        "plt.title('Gender Distribution')\n",
        "plt.xlabel('Gender')\n",
        "plt.ylabel('Count')\n",
        "plt.show()"
      ]
    },
    {
      "cell_type": "markdown",
      "metadata": {
        "id": "zZqx2yyRQArq"
      },
      "source": [
        "> 1. Which gender has the highest count?\n",
        "\n",
        "> Answer :"
      ]
    },
    {
      "cell_type": "markdown",
      "metadata": {
        "id": "xfcvC5k4Q08K"
      },
      "source": [
        "> 2. Is the distribution balanced, or is there a significant difference between genders?\n",
        "\n",
        "> Answer :"
      ]
    },
    {
      "cell_type": "markdown",
      "metadata": {
        "id": "VwQEj1E_MuVW"
      },
      "source": [
        "**Box Plot of BMI**\n",
        "\n",
        "> A box plot is a graphical representation of the distribution of numerical data through five key summary statistics: the minimum, first quartile (Q1), median (Q2), third quartile (Q3), and maximum."
      ]
    },
    {
      "cell_type": "code",
      "execution_count": null,
      "metadata": {
        "colab": {
          "base_uri": "https://localhost:8080/",
          "height": 449
        },
        "id": "51X8z8T3LU7Y",
        "outputId": "2ef77a07-4d87-4c5b-f36d-d2738744d6ba"
      },
      "outputs": [
        {
          "data": {
            "image/png": "[encoded data removed]",
            "text/plain": [
              "<Figure size 640x480 with 1 Axes>"
            ]
          },
          "metadata": {},
          "output_type": "display_data"
        }
      ],
      "source": [
        "# Set the seaborn plot style to whitegrid\n",
        "sns.set_style(\"whitegrid\")\n",
        "# Create a box plot of the \"Weight\" column of the DataFrame\n",
        "sns.boxplot(x = df1[\"BMI\"])\n",
        "plt.show()"
      ]
    },
    {
      "cell_type": "markdown",
      "metadata": {
        "id": "4mIgoONiQu0C"
      },
      "source": [
        "> 1. What is the median BMI (the middle line in the box)?\n",
        "\n",
        "> Answer :"
      ]
    },
    {
      "cell_type": "markdown",
      "metadata": {
        "id": "oPHvGI17Rf5m"
      },
      "source": [
        "> 2. What is the interquartile range (IQR) (distance between Q1 and Q3)?\n",
        "\n",
        "> Answer :"
      ]
    },
    {
      "cell_type": "markdown",
      "metadata": {
        "id": "wP302QvSRmfq"
      },
      "source": [
        "> 3. Are there any outliers (points outside the whiskers)?\n",
        "\n",
        "> Answer :"
      ]
    },
    {
      "cell_type": "markdown",
      "metadata": {
        "id": "Nv2wgb9DMi2R"
      },
      "source": [
        "**Scatter plot for BMI vs. Weight**"
      ]
    },
    {
      "cell_type": "code",
      "execution_count": null,
      "metadata": {
        "colab": {
          "base_uri": "https://localhost:8080/",
          "height": 718
        },
        "id": "hj5ETKTYMiP6",
        "outputId": "3740c2d8-6601-4fbb-ec86-3f4d9ca2d87e"
      },
      "outputs": [
        {
          "data": {
            "image/png": "[encoded data removed]",
            "text/plain": [
              "<Figure size 1000x800 with 1 Axes>"
            ]
          },
          "metadata": {},
          "output_type": "display_data"
        }
      ],
      "source": [
        "# Randomly sample 1000 rows from the DataFrame 'df1' and store it in 'df_sampled'\n",
        "df_sampled = df1.sample(1000)\n",
        "# Set the figure size for the plot\n",
        "plt.figure(figsize=(10, 8))\n",
        "# Create a regression plot (scatter plot with a trend line) for 'Weight' vs 'BMI'\n",
        "# scatter_kws controls the transparency of the scatter points, and line_kws sets the color of the trend line\n",
        "sns.regplot(x=df_sampled['Weight'], y=df_sampled['BMI'], scatter_kws={'alpha':0.5}, line_kws={'color':'red'})\n",
        "# Set the title of the plot\n",
        "plt.title('Scatter Plot of BMI vs. Weight with Trend Line')\n",
        "# Set the labels for the x and y axes\n",
        "plt.xlabel('Weight (kg)')\n",
        "plt.ylabel('BMI')\n",
        "# Enable grid lines on the plot\n",
        "plt.grid(True)\n",
        "# Display the plot\n",
        "plt.show()"
      ]
    },
    {
      "cell_type": "markdown",
      "metadata": {
        "id": "IJUlaoZxaYIB"
      },
      "source": [
        "> 1. Does the scatter plot confirm a strong positive correlation between Weight and BMI?\n",
        "\n",
        "> Answer :"
      ]
    },
    {
      "cell_type": "markdown",
      "metadata": {
        "id": "KZtKgDXtahw5"
      },
      "source": [
        "> 2. Is the red trend line steep or gradual? What does that indicate about how weight affects BMI?\n",
        "\n",
        "> Answer :"
      ]
    },
    {
      "cell_type": "markdown",
      "metadata": {
        "id": "VnMJroN5SnWf"
      },
      "source": [
        "**Pie Chart for Blood Type Distribution**"
      ]
    },
    {
      "cell_type": "code",
      "execution_count": null,
      "metadata": {
        "colab": {
          "base_uri": "https://localhost:8080/",
          "height": 428
        },
        "id": "YESdWffzSiZg",
        "outputId": "2efe3e29-a84e-49d0-9d04-349854ac7471"
      },
      "outputs": [
        {
          "data": {
            "image/png": "[encoded data removed]",
            "text/plain": [
              "<Figure size 640x480 with 1 Axes>"
            ]
          },
          "metadata": {},
          "output_type": "display_data"
        }
      ],
      "source": [
        "# Pie chart for Blood Type distribution\n",
        "blood_type_counts = df1['Blood Type'].value_counts()\n",
        "plt.pie(blood_type_counts, labels=blood_type_counts.index, autopct='%1.1f%%')\n",
        "plt.title('Blood Type Distribution')\n",
        "plt.axis('equal')  # Equal aspect ratio ensures the pie chart is circular.\n",
        "plt.show()"
      ]
    },
    {
      "cell_type": "markdown",
      "metadata": {
        "id": "phfTHaZXTDNw"
      },
      "source": [
        "> 1. Which blood type is the most common among students?\n",
        "\n",
        "> Answer :"
      ]
    },
    {
      "cell_type": "markdown",
      "metadata": {
        "id": "uAdyjAOZTJqH"
      },
      "source": [
        "> 2. Which blood type is the least common?\n",
        "\n",
        "> Answer :"
      ]
    },
    {
      "cell_type": "markdown",
      "metadata": {
        "id": "TE0Th_2TbF14"
      },
      "source": [
        "**Heatmap for Correlation Matrix**"
      ]
    },
    {
      "cell_type": "code",
      "execution_count": null,
      "metadata": {
        "colab": {
          "base_uri": "https://localhost:8080/",
          "height": 617
        },
        "id": "uDB0EGuQUc2Q",
        "outputId": "f53acaef-d7fe-496f-e539-d56e03b91449"
      },
      "outputs": [
        {
          "data": {
            "image/png": "[encoded data removed]",
            "text/plain": [
              "<Figure size 800x600 with 2 Axes>"
            ]
          },
          "metadata": {},
          "output_type": "display_data"
        }
      ],
      "source": [
        "# Compute correlation matrix\n",
        "corr = df1[['Age', 'Height', 'Weight', 'BMI', 'Temperature', 'Heart Rate', 'Blood Pressure', 'Cholesterol']].corr()\n",
        "# Set figure size\n",
        "plt.figure(figsize=(8, 6))  # Increase the figure size (width, height)\n",
        "# Plot a heatmap of the correlation matrix with annotations and the 'coolwarm' color map\n",
        "sns.heatmap(corr, annot=True, cmap='coolwarm')\n",
        "# Show the plot\n",
        "plt.show()"
      ]
    },
    {
      "cell_type": "markdown",
      "metadata": {
        "id": "ipR-cTDMZA9i"
      },
      "source": [
        "> 1. Which columns are most strongly correlated with each other?\n",
        "\n",
        "> Answer :"
      ]
    },
    {
      "cell_type": "markdown",
      "metadata": {
        "id": "JesEBqUHZzy2"
      },
      "source": [
        "> 2. Which columns show the weakest correlation with each other?\n",
        "\n",
        "> Answer :"
      ]
    },
    {
      "cell_type": "markdown",
      "metadata": {
        "id": "cvqHT9z8aejS"
      },
      "source": [
        "> 3. Based on the correlation matrix, do taller individuals tend to weigh more?\n",
        "\n",
        "> Answer :"
      ]
    },
    {
      "cell_type": "markdown",
      "metadata": {
        "id": "IkWZiQP0eluw"
      },
      "source": [
        "### 6. Data Preparation\n",
        "\n",
        "> Two main goals in data pre-processing:\n",
        "\n",
        "1. Clean the data to address data quality issues (We've already done this part).\n",
        "\n",
        "2. Transform the raw data to make it suitable for model building."
      ]
    },
    {
      "cell_type": "code",
      "execution_count": null,
      "metadata": {
        "colab": {
          "base_uri": "https://localhost:8080/"
        },
        "id": "siloYb9EXRMT",
        "outputId": "22bdd887-bf30-4984-8507-8569ff0f6cbe"
      },
      "outputs": [
        {
          "data": {
            "text/plain": [
              "['Gender', 'Blood Type', 'Diabetes', 'Smoking']"
            ]
          },
          "execution_count": 31,
          "metadata": {},
          "output_type": "execute_result"
        }
      ],
      "source": [
        "# check for categorical columns to convert it into numerical form for model building\n",
        "cat_cols"
      ]
    },
    {
      "cell_type": "markdown",
      "metadata": {
        "id": "jBIgGIBCZreB"
      },
      "source": [
        "> Use **LabelEncoder** to transform our categorical column into numerical format.\n",
        "\n",
        "> Example code :"
      ]
    },
    {
      "cell_type": "code",
      "execution_count": null,
      "metadata": {
        "colab": {
          "base_uri": "https://localhost:8080/"
        },
        "id": "dFkK3o7sawVX",
        "outputId": "d32eb4fb-a424-4cfc-864c-bebf14fd5a72"
      },
      "outputs": [
        {
          "name": "stdout",
          "output_type": "stream",
          "text": [
            "Gender dtype before encoding :  object\n",
            "Gender dtype after encoding :  int64\n"
          ]
        }
      ],
      "source": [
        "from sklearn.preprocessing import LabelEncoder\n",
        "\n",
        "label_encoder = LabelEncoder()\n",
        "print(\"Gender dtype before encoding : \", df1['Gender'].dtypes)\n",
        "df1['Gender'] = label_encoder.fit_transform(df1['Gender'])\n",
        "print(\"Gender dtype after encoding : \", df1['Gender'].dtypes)"
      ]
    },
    {
      "cell_type": "markdown",
      "metadata": {
        "id": "kOud_GDWaEu6"
      },
      "source": [
        "> Similarly do for other categorical columns"
      ]
    },
    {
      "cell_type": "code",
      "execution_count": null,
      "metadata": {
        "id": "OUjv_9gwhN44"
      },
      "outputs": [],
      "source": [
        "# Your code here"
      ]
    },
    {
      "cell_type": "markdown",
      "metadata": {
        "id": "zlQtMvRich8G"
      },
      "source": [
        "> The below code is performing feature scaling using StandardScaler to standardize (normalize) our numerical features to improve model performance."
      ]
    },
    {
      "cell_type": "code",
      "execution_count": null,
      "metadata": {
        "colab": {
          "base_uri": "https://localhost:8080/",
          "height": 206
        },
        "id": "f8AJM6qrrRYo",
        "outputId": "ed092ab2-c94c-424e-af96-036c137f116c"
      },
      "outputs": [
        {
          "data": {
            "application/vnd.google.colaboratory.intrinsic+json": {
              "summary": "{\n  \"name\": \"df1\",\n  \"rows\": 44854,\n  \"fields\": [\n    {\n      \"column\": \"Age\",\n      \"properties\": {\n        \"dtype\": \"number\",\n        \"std\": 1.0000111474642783,\n        \"min\": -1.6469524505518107,\n        \"max\": 1.6323031252741071,\n        \"num_unique_values\": 17,\n        \"samples\": [\n          1.6323031252741071,\n          -0.21227813612797158,\n          -0.0073246626388517215\n        ],\n        \"semantic_type\": \"\",\n        \"description\": \"\"\n      }\n    },\n    {\n      \"column\": \"Gender\",\n      \"properties\": {\n        \"dtype\": \"number\",\n        \"std\": 0,\n        \"min\": 0,\n        \"max\": 1,\n        \"num_unique_values\": 2,\n        \"samples\": [\n          0,\n          1\n        ],\n        \"semantic_type\": \"\",\n        \"description\": \"\"\n      }\n    },\n    {\n      \"column\": \"Height\",\n      \"properties\": {\n        \"dtype\": \"number\",\n        \"std\": 1.0000111474642364,\n        \"min\": -1.7497103876305211,\n        \"max\": 1.761026024155494,\n        \"num_unique_values\": 42799,\n        \"samples\": [\n          1.0281007868836811,\n          -1.2622348667496976\n        ],\n        \"semantic_type\": \"\",\n        \"description\": \"\"\n      }\n    },\n    {\n      \"column\": \"Weight\",\n      \"properties\": {\n        \"dtype\": \"number\",\n        \"std\": 1.0000111474642315,\n        \"min\": -1.7338545661631302,\n        \"max\": 1.7310769870746041,\n        \"num_unique_values\": 43740,\n        \"samples\": [\n          -1.1279030280859708,\n          0.5094551194024765\n        ],\n        \"semantic_type\": \"\",\n        \"description\": \"\"\n      }\n    },\n    {\n      \"column\": \"Blood Type\",\n      \"properties\": {\n        \"dtype\": \"number\",\n        \"std\": 1,\n        \"min\": 0,\n        \"max\": 3,\n        \"num_unique_values\": 4,\n        \"samples\": [\n          1,\n          0\n        ],\n        \"semantic_type\": \"\",\n        \"description\": \"\"\n      }\n    },\n    {\n      \"column\": \"BMI\",\n      \"properties\": {\n        \"dtype\": \"number\",\n        \"std\": 1.0000111474642364,\n        \"min\": -1.8809484039052342,\n        \"max\": 2.8352901584348884,\n        \"num_unique_values\": 43706,\n        \"samples\": [\n          1.7297179301127603,\n          -0.47357320934858066\n        ],\n        \"semantic_type\": \"\",\n        \"description\": \"\"\n      }\n    },\n    {\n      \"column\": \"Temperature\",\n      \"properties\": {\n        \"dtype\": \"number\",\n        \"std\": 1.0000111474642301,\n        \"min\": -2.721700531153536,\n        \"max\": 2.7298813814848852,\n        \"num_unique_values\": 43445,\n        \"samples\": [\n          0.5324202393358135,\n          0.09408616222890069\n        ],\n        \"semantic_type\": \"\",\n        \"description\": \"\"\n      }\n    },\n    {\n      \"column\": \"Heart Rate\",\n      \"properties\": {\n        \"dtype\": \"number\",\n        \"std\": 1.0000111474642202,\n        \"min\": -1.7296691495137688,\n        \"max\": 1.7199550977458107,\n        \"num_unique_values\": 40,\n        \"samples\": [\n          1.4545993864181508,\n          0.3931765411075109\n        ],\n        \"semantic_type\": \"\",\n        \"description\": \"\"\n      }\n    },\n    {\n      \"column\": \"Blood Pressure\",\n      \"properties\": {\n        \"dtype\": \"number\",\n        \"std\": 1.0000111474643407,\n        \"min\": -1.7073596397517683,\n        \"max\": 1.7016517049153996,\n        \"num_unique_values\": 50,\n        \"samples\": [\n          -0.8029280585135401,\n          -0.45506975803729854\n        ],\n        \"semantic_type\": \"\",\n        \"description\": \"\"\n      }\n    },\n    {\n      \"column\": \"Cholesterol\",\n      \"properties\": {\n        \"dtype\": \"number\",\n        \"std\": 1.0000111474642135,\n        \"min\": -1.7078349173010918,\n        \"max\": 1.7172076390372222,\n        \"num_unique_values\": 130,\n        \"samples\": [\n          -0.5396033476973258,\n          1.0799904192533498\n        ],\n        \"semantic_type\": \"\",\n        \"description\": \"\"\n      }\n    },\n    {\n      \"column\": \"Diabetes\",\n      \"properties\": {\n        \"dtype\": \"number\",\n        \"std\": 0,\n        \"min\": 0,\n        \"max\": 1,\n        \"num_unique_values\": 2,\n        \"samples\": [\n          0,\n          1\n        ],\n        \"semantic_type\": \"\",\n        \"description\": \"\"\n      }\n    },\n    {\n      \"column\": \"Smoking\",\n      \"properties\": {\n        \"dtype\": \"number\",\n        \"std\": 0,\n        \"min\": 0,\n        \"max\": 1,\n        \"num_unique_values\": 2,\n        \"samples\": [\n          1,\n          0\n        ],\n        \"semantic_type\": \"\",\n        \"description\": \"\"\n      }\n    }\n  ]\n}",
              "type": "dataframe",
              "variable_name": "df1"
            },
            "text/html": [
              "\n",
              "  <div id=\"df-16dac2ce-4529-46e7-b924-e83d393105aa\" class=\"colab-df-container\">\n",
              "    <div>\n",
              "<style scoped>\n",
              "    .dataframe tbody tr th:only-of-type {\n",
              "        vertical-align: middle;\n",
              "    }\n",
              "\n",
              "    .dataframe tbody tr th {\n",
              "        vertical-align: top;\n",
              "    }\n",
              "\n",
              "    .dataframe thead th {\n",
              "        text-align: right;\n",
              "    }\n",
              "</style>\n",
              "<table border=\"1\" class=\"dataframe\">\n",
              "  <thead>\n",
              "    <tr style=\"text-align: right;\">\n",
              "      <th></th>\n",
              "      <th>Age</th>\n",
              "      <th>Gender</th>\n",
              "      <th>Height</th>\n",
              "      <th>Weight</th>\n",
              "      <th>Blood Type</th>\n",
              "      <th>BMI</th>\n",
              "      <th>Temperature</th>\n",
              "      <th>Heart Rate</th>\n",
              "      <th>Blood Pressure</th>\n",
              "      <th>Cholesterol</th>\n",
              "      <th>Diabetes</th>\n",
              "      <th>Smoking</th>\n",
              "    </tr>\n",
              "  </thead>\n",
              "  <tbody>\n",
              "    <tr>\n",
              "      <th>0</th>\n",
              "      <td>1.632303</td>\n",
              "      <td>1</td>\n",
              "      <td>-0.149278</td>\n",
              "      <td>-1.516653</td>\n",
              "      <td>3</td>\n",
              "      <td>-1.232759</td>\n",
              "      <td>0.970335</td>\n",
              "      <td>1.100792</td>\n",
              "      <td>0.240647</td>\n",
              "      <td>-0.459951</td>\n",
              "      <td>1</td>\n",
              "      <td>0</td>\n",
              "    </tr>\n",
              "    <tr>\n",
              "      <th>1</th>\n",
              "      <td>-0.212278</td>\n",
              "      <td>0</td>\n",
              "      <td>-1.372715</td>\n",
              "      <td>-0.945109</td>\n",
              "      <td>1</td>\n",
              "      <td>-0.161694</td>\n",
              "      <td>-0.726237</td>\n",
              "      <td>-1.110506</td>\n",
              "      <td>-1.150786</td>\n",
              "      <td>-1.601632</td>\n",
              "      <td>0</td>\n",
              "      <td>0</td>\n",
              "    </tr>\n",
              "    <tr>\n",
              "      <th>2</th>\n",
              "      <td>-0.417232</td>\n",
              "      <td>1</td>\n",
              "      <td>0.150667</td>\n",
              "      <td>-1.624329</td>\n",
              "      <td>2</td>\n",
              "      <td>-1.415721</td>\n",
              "      <td>1.298217</td>\n",
              "      <td>-0.049083</td>\n",
              "      <td>0.797220</td>\n",
              "      <td>1.026889</td>\n",
              "      <td>0</td>\n",
              "      <td>1</td>\n",
              "    </tr>\n",
              "    <tr>\n",
              "      <th>3</th>\n",
              "      <td>1.632303</td>\n",
              "      <td>1</td>\n",
              "      <td>0.876610</td>\n",
              "      <td>0.759418</td>\n",
              "      <td>1</td>\n",
              "      <td>0.044085</td>\n",
              "      <td>-0.275013</td>\n",
              "      <td>-1.287410</td>\n",
              "      <td>-1.359501</td>\n",
              "      <td>-0.645806</td>\n",
              "      <td>0</td>\n",
              "      <td>0</td>\n",
              "    </tr>\n",
              "    <tr>\n",
              "      <th>4</th>\n",
              "      <td>0.607536</td>\n",
              "      <td>1</td>\n",
              "      <td>-0.006857</td>\n",
              "      <td>1.307641</td>\n",
              "      <td>1</td>\n",
              "      <td>1.705135</td>\n",
              "      <td>-0.298453</td>\n",
              "      <td>-0.402891</td>\n",
              "      <td>-0.246355</td>\n",
              "      <td>-0.566154</td>\n",
              "      <td>0</td>\n",
              "      <td>0</td>\n",
              "    </tr>\n",
              "  </tbody>\n",
              "</table>\n",
              "</div>\n",
              "    <div class=\"colab-df-buttons\">\n",
              "\n",
              "  <div class=\"colab-df-container\">\n",
              "    <button class=\"colab-df-convert\" onclick=\"convertToInteractive('df-16dac2ce-4529-46e7-b924-e83d393105aa')\"\n",
              "            title=\"Convert this dataframe to an interactive table.\"\n",
              "            style=\"display:none;\">\n",
              "\n",
              "  <svg xmlns=\"http://www.w3.org/2000/svg\" height=\"24px\" viewBox=\"0 -960 960 960\">\n",
              "    <path d=\"M120-120v-720h720v720H120Zm60-500h600v-160H180v160Zm220 220h160v-160H400v160Zm0 220h160v-160H400v160ZM180-400h160v-160H180v160Zm440 0h160v-160H620v160ZM180-180h160v-160H180v160Zm440 0h160v-160H620v160Z\"/>\n",
              "  </svg>\n",
              "    </button>\n",
              "\n",
              "  <style>\n",
              "    .colab-df-container {\n",
              "      display:flex;\n",
              "      gap: 12px;\n",
              "    }\n",
              "\n",
              "    .colab-df-convert {\n",
              "      background-color: #E8F0FE;\n",
              "      border: none;\n",
              "      border-radius: 50%;\n",
              "      cursor: pointer;\n",
              "      display: none;\n",
              "      fill: #1967D2;\n",
              "      height: 32px;\n",
              "      padding: 0 0 0 0;\n",
              "      width: 32px;\n",
              "    }\n",
              "\n",
              "    .colab-df-convert:hover {\n",
              "      background-color: #E2EBFA;\n",
              "      box-shadow: 0px 1px 2px rgba(60, 64, 67, 0.3), 0px 1px 3px 1px rgba(60, 64, 67, 0.15);\n",
              "      fill: #174EA6;\n",
              "    }\n",
              "\n",
              "    .colab-df-buttons div {\n",
              "      margin-bottom: 4px;\n",
              "    }\n",
              "\n",
              "    [theme=dark] .colab-df-convert {\n",
              "      background-color: #3B4455;\n",
              "      fill: #D2E3FC;\n",
              "    }\n",
              "\n",
              "    [theme=dark] .colab-df-convert:hover {\n",
              "      background-color: #434B5C;\n",
              "      box-shadow: 0px 1px 3px 1px rgba(0, 0, 0, 0.15);\n",
              "      filter: drop-shadow(0px 1px 2px rgba(0, 0, 0, 0.3));\n",
              "      fill: #FFFFFF;\n",
              "    }\n",
              "  </style>\n",
              "\n",
              "    <script>\n",
              "      const buttonEl =\n",
              "        document.querySelector('#df-16dac2ce-4529-46e7-b924-e83d393105aa button.colab-df-convert');\n",
              "      buttonEl.style.display =\n",
              "        google.colab.kernel.accessAllowed ? 'block' : 'none';\n",
              "\n",
              "      async function convertToInteractive(key) {\n",
              "        const element = document.querySelector('#df-16dac2ce-4529-46e7-b924-e83d393105aa');\n",
              "        const dataTable =\n",
              "          await google.colab.kernel.invokeFunction('convertToInteractive',\n",
              "                                                    [key], {});\n",
              "        if (!dataTable) return;\n",
              "\n",
              "        const docLinkHtml = 'Like what you see? Visit the ' +\n",
              "          '<a target=\"_blank\" href=https://colab.research.google.com/notebooks/data_table.ipynb>data table notebook</a>'\n",
              "          + ' to learn more about interactive tables.';\n",
              "        element.innerHTML = '';\n",
              "        dataTable['output_type'] = 'display_data';\n",
              "        await google.colab.output.renderOutput(dataTable, element);\n",
              "        const docLink = document.createElement('div');\n",
              "        docLink.innerHTML = docLinkHtml;\n",
              "        element.appendChild(docLink);\n",
              "      }\n",
              "    </script>\n",
              "  </div>\n",
              "\n",
              "\n",
              "<div id=\"df-00645ba9-7c58-418d-a129-640ceafac9e6\">\n",
              "  <button class=\"colab-df-quickchart\" onclick=\"quickchart('df-00645ba9-7c58-418d-a129-640ceafac9e6')\"\n",
              "            title=\"Suggest charts\"\n",
              "            style=\"display:none;\">\n",
              "\n",
              "<svg xmlns=\"http://www.w3.org/2000/svg\" height=\"24px\"viewBox=\"0 0 24 24\"\n",
              "     width=\"24px\">\n",
              "    <g>\n",
              "        <path d=\"M19 3H5c-1.1 0-2 .9-2 2v14c0 1.1.9 2 2 2h14c1.1 0 2-.9 2-2V5c0-1.1-.9-2-2-2zM9 17H7v-7h2v7zm4 0h-2V7h2v10zm4 0h-2v-4h2v4z\"/>\n",
              "    </g>\n",
              "</svg>\n",
              "  </button>\n",
              "\n",
              "<style>\n",
              "  .colab-df-quickchart {\n",
              "      --bg-color: #E8F0FE;\n",
              "      --fill-color: #1967D2;\n",
              "      --hover-bg-color: #E2EBFA;\n",
              "      --hover-fill-color: #174EA6;\n",
              "      --disabled-fill-color: #AAA;\n",
              "      --disabled-bg-color: #DDD;\n",
              "  }\n",
              "\n",
              "  [theme=dark] .colab-df-quickchart {\n",
              "      --bg-color: #3B4455;\n",
              "      --fill-color: #D2E3FC;\n",
              "      --hover-bg-color: #434B5C;\n",
              "      --hover-fill-color: #FFFFFF;\n",
              "      --disabled-bg-color: #3B4455;\n",
              "      --disabled-fill-color: #666;\n",
              "  }\n",
              "\n",
              "  .colab-df-quickchart {\n",
              "    background-color: var(--bg-color);\n",
              "    border: none;\n",
              "    border-radius: 50%;\n",
              "    cursor: pointer;\n",
              "    display: none;\n",
              "    fill: var(--fill-color);\n",
              "    height: 32px;\n",
              "    padding: 0;\n",
              "    width: 32px;\n",
              "  }\n",
              "\n",
              "  .colab-df-quickchart:hover {\n",
              "    background-color: var(--hover-bg-color);\n",
              "    box-shadow: 0 1px 2px rgba(60, 64, 67, 0.3), 0 1px 3px 1px rgba(60, 64, 67, 0.15);\n",
              "    fill: var(--button-hover-fill-color);\n",
              "  }\n",
              "\n",
              "  .colab-df-quickchart-complete:disabled,\n",
              "  .colab-df-quickchart-complete:disabled:hover {\n",
              "    background-color: var(--disabled-bg-color);\n",
              "    fill: var(--disabled-fill-color);\n",
              "    box-shadow: none;\n",
              "  }\n",
              "\n",
              "  .colab-df-spinner {\n",
              "    border: 2px solid var(--fill-color);\n",
              "    border-color: transparent;\n",
              "    border-bottom-color: var(--fill-color);\n",
              "    animation:\n",
              "      spin 1s steps(1) infinite;\n",
              "  }\n",
              "\n",
              "  @keyframes spin {\n",
              "    0% {\n",
              "      border-color: transparent;\n",
              "      border-bottom-color: var(--fill-color);\n",
              "      border-left-color: var(--fill-color);\n",
              "    }\n",
              "    20% {\n",
              "      border-color: transparent;\n",
              "      border-left-color: var(--fill-color);\n",
              "      border-top-color: var(--fill-color);\n",
              "    }\n",
              "    30% {\n",
              "      border-color: transparent;\n",
              "      border-left-color: var(--fill-color);\n",
              "      border-top-color: var(--fill-color);\n",
              "      border-right-color: var(--fill-color);\n",
              "    }\n",
              "    40% {\n",
              "      border-color: transparent;\n",
              "      border-right-color: var(--fill-color);\n",
              "      border-top-color: var(--fill-color);\n",
              "    }\n",
              "    60% {\n",
              "      border-color: transparent;\n",
              "      border-right-color: var(--fill-color);\n",
              "    }\n",
              "    80% {\n",
              "      border-color: transparent;\n",
              "      border-right-color: var(--fill-color);\n",
              "      border-bottom-color: var(--fill-color);\n",
              "    }\n",
              "    90% {\n",
              "      border-color: transparent;\n",
              "      border-bottom-color: var(--fill-color);\n",
              "    }\n",
              "  }\n",
              "</style>\n",
              "\n",
              "  <script>\n",
              "    async function quickchart(key) {\n",
              "      const quickchartButtonEl =\n",
              "        document.querySelector('#' + key + ' button');\n",
              "      quickchartButtonEl.disabled = true;  // To prevent multiple clicks.\n",
              "      quickchartButtonEl.classList.add('colab-df-spinner');\n",
              "      try {\n",
              "        const charts = await google.colab.kernel.invokeFunction(\n",
              "            'suggestCharts', [key], {});\n",
              "      } catch (error) {\n",
              "        console.error('Error during call to suggestCharts:', error);\n",
              "      }\n",
              "      quickchartButtonEl.classList.remove('colab-df-spinner');\n",
              "      quickchartButtonEl.classList.add('colab-df-quickchart-complete');\n",
              "    }\n",
              "    (() => {\n",
              "      let quickchartButtonEl =\n",
              "        document.querySelector('#df-00645ba9-7c58-418d-a129-640ceafac9e6 button');\n",
              "      quickchartButtonEl.style.display =\n",
              "        google.colab.kernel.accessAllowed ? 'block' : 'none';\n",
              "    })();\n",
              "  </script>\n",
              "</div>\n",
              "\n",
              "    </div>\n",
              "  </div>\n"
            ],
            "text/plain": [
              "        Age  Gender    Height    Weight  Blood Type       BMI  Temperature  \\\n",
              "0  1.632303       1 -0.149278 -1.516653           3 -1.232759     0.970335   \n",
              "1 -0.212278       0 -1.372715 -0.945109           1 -0.161694    -0.726237   \n",
              "2 -0.417232       1  0.150667 -1.624329           2 -1.415721     1.298217   \n",
              "3  1.632303       1  0.876610  0.759418           1  0.044085    -0.275013   \n",
              "4  0.607536       1 -0.006857  1.307641           1  1.705135    -0.298453   \n",
              "\n",
              "   Heart Rate  Blood Pressure  Cholesterol  Diabetes  Smoking  \n",
              "0    1.100792        0.240647    -0.459951         1        0  \n",
              "1   -1.110506       -1.150786    -1.601632         0        0  \n",
              "2   -0.049083        0.797220     1.026889         0        1  \n",
              "3   -1.287410       -1.359501    -0.645806         0        0  \n",
              "4   -0.402891       -0.246355    -0.566154         0        0  "
            ]
          },
          "execution_count": 34,
          "metadata": {},
          "output_type": "execute_result"
        }
      ],
      "source": [
        "from sklearn.preprocessing import StandardScaler\n",
        "\n",
        "scaler = StandardScaler()\n",
        "numerical_features = ['Age', 'Height', 'Weight', 'BMI', 'Temperature', 'Heart Rate', 'Blood Pressure', 'Cholesterol']\n",
        "df1[numerical_features] = scaler.fit_transform(df1[numerical_features])\n",
        "df1.head()"
      ]
    },
    {
      "cell_type": "markdown",
      "metadata": {
        "id": "Zj9MKhoTh87E"
      },
      "source": [
        "### 7. Model Building\n",
        "\n",
        "In this section, we'll focus on building a predictive model using the 'Diabetes' column as our target variable. The goal is to predict whether a person has diabetes or not based on other features."
      ]
    },
    {
      "cell_type": "markdown",
      "metadata": {
        "id": "tuS-H1Fcngwf"
      },
      "source": [
        "**Splitting our features and target**"
      ]
    },
    {
      "cell_type": "code",
      "execution_count": null,
      "metadata": {
        "id": "cmJw_oX3fL6e"
      },
      "outputs": [],
      "source": [
        "# Split the dataset into training and testing sets (assuming df1 is preprocessed)\n",
        "X = df1.drop(columns=['Diabetes'])  # Replace 'Target' with your actual target column\n",
        "y = df1['Diabetes']  # Define the target variable"
      ]
    },
    {
      "cell_type": "markdown",
      "metadata": {
        "id": "ZNOuCeW8otAt"
      },
      "source": [
        "**Split data into training and testing set**"
      ]
    },
    {
      "cell_type": "code",
      "execution_count": null,
      "metadata": {
        "colab": {
          "base_uri": "https://localhost:8080/"
        },
        "id": "0BT_V5CLosiO",
        "outputId": "676bfdbd-3f90-4f68-9b5a-2d67eff036d1"
      },
      "outputs": [
        {
          "name": "stdout",
          "output_type": "stream",
          "text": [
            "X_train shape: (35883, 11)\n",
            "X_test shape: (8971, 11)\n",
            "y_train shape: (35883,)\n",
            "y_test shape: (8971,)\n"
          ]
        }
      ],
      "source": [
        "from sklearn.model_selection import train_test_split\n",
        "\n",
        "# Splitting the dataset into 80% training and 20% testing\n",
        "X_train, X_test, y_train, y_test = train_test_split(X, y, test_size=0.2, random_state=42)\n",
        "\n",
        "# Print the shape of the resulting datasets\n",
        "print(f\"X_train shape: {X_train.shape}\")\n",
        "print(f\"X_test shape: {X_test.shape}\")\n",
        "print(f\"y_train shape: {y_train.shape}\")\n",
        "print(f\"y_test shape: {y_test.shape}\")"
      ]
    },
    {
      "cell_type": "markdown",
      "metadata": {
        "id": "ToNpEoBvpHqL"
      },
      "source": [
        "**Model Training**"
      ]
    },
    {
      "cell_type": "markdown",
      "metadata": {
        "id": "JPQ3dYZEgBwu"
      },
      "source": [
        "> For this workshop we will be training our model using the below ML algorithms as well as compare them.\n",
        "\n",
        "* Logistic Regression\n",
        "* Support Vector Machine (SVM)\n",
        "* Random Forest\n",
        "* K-Nearest Neighbors"
      ]
    },
    {
      "cell_type": "code",
      "execution_count": null,
      "metadata": {
        "id": "1vpBlJPjoJv1"
      },
      "outputs": [],
      "source": [
        "# Import Necessary Libraries for Model Building\n",
        "from sklearn.svm import SVC\n",
        "from sklearn.linear_model import LogisticRegression\n",
        "from sklearn.ensemble import RandomForestClassifier\n",
        "from sklearn.neighbors import KNeighborsClassifier\n",
        "from sklearn.metrics import accuracy_score, classification_report, confusion_matrix"
      ]
    },
    {
      "cell_type": "markdown",
      "metadata": {
        "id": "5bcMJCqVform"
      },
      "source": [
        "> Logistic Regression"
      ]
    },
    {
      "cell_type": "code",
      "execution_count": null,
      "metadata": {
        "id": "uRN0Lp9scmGi"
      },
      "outputs": [],
      "source": [
        "model1 = LogisticRegression()  # Initialize logistic regression model\n",
        "model1.fit(X_train, y_train)  # Train the model on training data\n",
        "y_pred1 = model1.predict(X_test)  # Predict target values for test set\n",
        "accuracy1 = accuracy_score(y_test, y_pred1)  # Calculate model accuracy\n",
        "accuracy1"
      ]
    },
    {
      "cell_type": "markdown",
      "metadata": {
        "id": "CSP1kiF0hQ5I"
      },
      "source": [
        "> Support Vector Machine (SVM)"
      ]
    },
    {
      "cell_type": "code",
      "execution_count": null,
      "metadata": {
        "id": "E1z3rC_ReoQ2"
      },
      "outputs": [],
      "source": [
        "model2 = SVC(kernel='linear')  # Initialize SVM model with linear kernel\n",
        "model2.fit(X_train, y_train)  # Train the model on training data\n",
        "y_pred2 = model2.predict(X_test)  # Predict target values for test set\n",
        "accuracy2 = accuracy_score(y_test, y_pred2)  # Calculate model accuracy\n",
        "accuracy2"
      ]
    },
    {
      "cell_type": "markdown",
      "metadata": {
        "id": "IYBdobbnibRP"
      },
      "source": [
        "> Random Forest"
      ]
    },
    {
      "cell_type": "code",
      "execution_count": null,
      "metadata": {
        "id": "VQK8o3L_iay5"
      },
      "outputs": [],
      "source": [
        "model3 = RandomForestClassifier(n_estimators=100, random_state=42)  # Initialize Random Forest with 100 trees\n",
        "model3.fit(X_train, y_train)  # Train the model on training data\n",
        "y_pred3 = model3.predict(X_test)  # Predict target values for test set\n",
        "accuracy3 = accuracy_score(y_test, y_pred3)  # Calculate model accuracy\n",
        "accuracy3"
      ]
    },
    {
      "cell_type": "markdown",
      "metadata": {
        "id": "s7g_MfLNjcPo"
      },
      "source": [
        "> K-Nearest Neighbors"
      ]
    },
    {
      "cell_type": "code",
      "execution_count": null,
      "metadata": {
        "id": "5kpwUBOWjkoO"
      },
      "outputs": [],
      "source": [
        "model4 = KNeighborsClassifier(n_neighbors=5)  # Initialize KNN with 5 neighbors\n",
        "model4.fit(X_train, y_train)  # Train the model on training data\n",
        "y_pred4 = model4.predict(X_test)  # Predict target values for test set\n",
        "accuracy4 = accuracy_score(y_test, y_pred4)  # Calculate model accuracy\n",
        "accuracy4"
      ]
    },
    {
      "cell_type": "markdown",
      "metadata": {
        "id": "l9FHReIPtzOq"
      },
      "source": [
        "> Display Accuracies"
      ]
    },
    {
      "cell_type": "code",
      "execution_count": null,
      "metadata": {
        "colab": {
          "base_uri": "https://localhost:8080/"
        },
        "id": "5pAal8KStGkR",
        "outputId": "745ad500-1a6a-4c45-d34a-6a76346e36ac"
      },
      "outputs": [
        {
          "name": "stdout",
          "output_type": "stream",
          "text": [
            "Accuracy of Logistic Regression :  0.899676736149816\n",
            "Accuracy of SVM :  0.899676736149816\n",
            "Accuracy of Random Forest :  0.9016832014268198\n",
            "Accuracy of K-Nearest Neighbors :  0.8938802809051388\n"
          ]
        }
      ],
      "source": [
        "# Print the accuracy of all models\n",
        "print(\"Accuracy of Logistic Regression : \", accuracy1)\n",
        "print(\"Accuracy of SVM : \", accuracy2)\n",
        "print(\"Accuracy of Random Forest : \", accuracy3)\n",
        "print(\"Accuracy of K-Nearest Neighbors : \", accuracy4)"
      ]
    },
    {
      "cell_type": "markdown",
      "metadata": {
        "id": "VJePKRXit7fQ"
      },
      "source": [
        "> *At first glance, all models seem to perform well, but accuracy alone can be misleading, especially in imbalanced datasets. A model might achieve high accuracy simply by predicting the majority class while failing to detect the minority class. To avoid such mistakes, it is important to use other metrics, such as Precision, Recall, F1-Score, and the Confusion Matrix, when evaluating a classification model*"
      ]
    },
    {
      "cell_type": "markdown",
      "metadata": {
        "id": "Kt9yu0jKkgl-"
      },
      "source": [
        "\n",
        "\n",
        "### 8. Model Evaluation"
      ]
    },
    {
      "cell_type": "markdown",
      "metadata": {
        "id": "sCsewbBAlSjm"
      },
      "source": [
        "> Since, our model is of classification type we will be using the following metrics to evaluate our model.\n",
        "\n",
        "* Confusion Matrix : The Confusion Matrix is a table that displays the performance of a classification model by showing the actual vs predicted labels. It consists of:\n",
        "  1. True Positives (TP): Correctly predicted positive cases.\n",
        "  2. True Negatives (TN): Correctly predicted negative cases.\n",
        "  3. False Positives (FP): Incorrectly predicted as positive.\n",
        "  4. False Negatives (FN): Incorrectly predicted as negative.\n",
        "  \n",
        "* Precison : Precision is the ratio of correct positive predictions to all predicted positive instances. It tells you how many of the predicted positive cases were actually correct.\n",
        "\n",
        "* Recall : Recall is the ratio of correct positive predictions to all actual positive instances. It measures how well the model identifies all positive cases.\n",
        "\n",
        "* F1-Score : F1-Score is the harmonic mean of Precision and Recall, balancing both metrics. It’s especially useful when the dataset has an uneven class distribution (e.g., when there are more negatives than positives).\n",
        "\n"
      ]
    },
    {
      "cell_type": "markdown",
      "metadata": {
        "id": "e0hyzFvToBiw"
      },
      "source": [
        "> Confusion Matrix"
      ]
    },
    {
      "cell_type": "code",
      "execution_count": null,
      "metadata": {
        "colab": {
          "base_uri": "https://localhost:8080/"
        },
        "id": "d0BtWq72kmg-",
        "outputId": "b6c89b14-b2d1-4cba-84e9-7b860de2fd72"
      },
      "outputs": [
        {
          "name": "stdout",
          "output_type": "stream",
          "text": [
            "model :  Logistic Regression\n",
            "[[8071    0]\n",
            " [ 900    0]]\n",
            "----------------------------\n",
            "model :  Support Vector Machine\n",
            "[[8071    0]\n",
            " [ 900    0]]\n",
            "----------------------------\n",
            "model :  Random Forest\n",
            "[[8071    0]\n",
            " [ 882   18]]\n",
            "----------------------------\n",
            "model :  K-Nearest Neighbors\n",
            "[[8006   65]\n",
            " [ 887   13]]\n",
            "----------------------------\n"
          ]
        }
      ],
      "source": [
        "# Store predictions from different models in a dictionary\n",
        "model_preds = {\n",
        "    \"Logistic Regression\" : y_pred1,\n",
        "    \"Support Vector Machine\" : y_pred2,\n",
        "    \"Random Forest\" : y_pred3,\n",
        "    \"K-Nearest Neighbors\": y_pred4\n",
        "}\n",
        "\n",
        "# Iterate through each model and plot its confusion matrix\n",
        "for model, pred in model_preds.items():\n",
        "    print(\"model : \", model)\n",
        "    print(confusion_matrix(y_test, pred))  # Display confusion matrix for each model\n",
        "    print('----------------------------')"
      ]
    },
    {
      "cell_type": "markdown",
      "metadata": {
        "id": "-U0cXiuZ6zOY"
      },
      "source": [
        "> As we suspected, accuracy alone was misleading. Despite some models showing seemingly high accuracy, their confusion matrices reveal significant shortcomings in detecting the minority class."
      ]
    },
    {
      "cell_type": "markdown",
      "metadata": {
        "id": "jIA9TeM_7oXI"
      },
      "source": [
        "> Classification Report"
      ]
    },
    {
      "cell_type": "code",
      "execution_count": null,
      "metadata": {
        "colab": {
          "base_uri": "https://localhost:8080/"
        },
        "id": "mX7ifdw67s7R",
        "outputId": "9ff1a3fc-1415-4e36-8396-89aab68c3b7b"
      },
      "outputs": [
        {
          "name": "stdout",
          "output_type": "stream",
          "text": [
            "model :  Logistic Regression\n",
            "              precision    recall  f1-score   support\n",
            "\n",
            "           0       0.90      1.00      0.95      8071\n",
            "           1       0.00      0.00      0.00       900\n",
            "\n",
            "    accuracy                           0.90      8971\n",
            "   macro avg       0.45      0.50      0.47      8971\n",
            "weighted avg       0.81      0.90      0.85      8971\n",
            "\n",
            "----------------------------\n",
            "model :  Support Vector Machine\n",
            "              precision    recall  f1-score   support\n",
            "\n",
            "           0       0.90      1.00      0.95      8071\n",
            "           1       0.00      0.00      0.00       900\n",
            "\n",
            "    accuracy                           0.90      8971\n",
            "   macro avg       0.45      0.50      0.47      8971\n",
            "weighted avg       0.81      0.90      0.85      8971\n",
            "\n",
            "----------------------------\n",
            "model :  Random Forest\n",
            "              precision    recall  f1-score   support\n",
            "\n",
            "           0       0.90      1.00      0.95      8071\n",
            "           1       1.00      0.02      0.04       900\n",
            "\n",
            "    accuracy                           0.90      8971\n",
            "   macro avg       0.95      0.51      0.49      8971\n",
            "weighted avg       0.91      0.90      0.86      8971\n",
            "\n",
            "----------------------------\n",
            "model :  K-Nearest Neighbors\n",
            "              precision    recall  f1-score   support\n",
            "\n",
            "           0       0.90      0.99      0.94      8071\n",
            "           1       0.17      0.01      0.03       900\n",
            "\n",
            "    accuracy                           0.89      8971\n",
            "   macro avg       0.53      0.50      0.49      8971\n",
            "weighted avg       0.83      0.89      0.85      8971\n",
            "\n",
            "----------------------------\n"
          ]
        }
      ],
      "source": [
        "# Iterate through each model and display its classification report\n",
        "for model, pred in model_preds.items():\n",
        "    print(\"model : \", model)\n",
        "    print(classification_report(y_test, pred, zero_division=0))  # Display classification report for each model\n",
        "    print('----------------------------')"
      ]
    },
    {
      "cell_type": "markdown",
      "metadata": {
        "id": "5S9SEi0r8kUH"
      },
      "source": [
        ">The evaluation of the models shows that despite high accuracy, all models struggle to detect the minority class (class 1)."
      ]
    },
    {
      "cell_type": "markdown",
      "metadata": {
        "id": "y4TeaJmg9CgI"
      },
      "source": [
        "> Why is this happening ?\n",
        "\n",
        "* The dataset is highly imbalanced (8071 majority class vs. 900 minority class).\n",
        "\n",
        "* Most models are biased towards class 0, making them ineffective for detecting class 1.\n",
        "\n",
        "* Accuracy is misleading here (~90%) because it is mostly driven by correct class 0 predictions."
      ]
    },
    {
      "cell_type": "markdown",
      "metadata": {
        "id": "Z9DMI1FL9Slt"
      },
      "source": [
        "> How to solve this issue ?\n",
        "\n",
        "> Answer : Below are some strategies we can try to solve such issues:"
      ]
    },
    {
      "cell_type": "markdown",
      "metadata": {
        "id": "3UO0WZnN_qeD"
      },
      "source": [
        "1. Class Imbalance Handling:\n",
        "  * Resampling: Since it looks like the data might be imbalanced (a common issue in classification problems), try oversampling the minority class (positive class) or undersampling the majority class (negative class).\n",
        "    * Oversampling: Techniques like SMOTE (Synthetic Minority Over-sampling Technique) can generate synthetic samples for the minority class.\n",
        "    * Undersampling: Reduce the number of instances of the majority class to balance the dataset.\n",
        "  * Class Weights: Many algorithms, such as logistic regression, SVM, and random forests, have parameters to handle class weights. For example, you can assign a higher weight to the minority class to make the model pay more attention to it."
      ]
    },
    {
      "cell_type": "markdown",
      "metadata": {
        "id": "RmYRbIIP_tCM"
      },
      "source": [
        "2. Model Hyperparameter Tuning:\n",
        "* For models like Random Forest and SVM, adjusting hyperparameters can help improve the balance between precision and recall for each class.\n",
        "* For Random Forest, try tuning parameters like n_estimators, max_depth, and min_samples_split.\n",
        "* For SVM, you can experiment with the C parameter (which controls the trade-off between achieving a low error on the training set and a low-complexity model) and kernel choice."
      ]
    },
    {
      "cell_type": "markdown",
      "metadata": {
        "id": "TU-ExrgD_8hR"
      },
      "source": [
        "3. Try Different Algorithms:\n",
        "* Some models handle imbalanced data better than others. For instance, Gradient Boosting Machines (GBM) or XGBoost are generally more robust to imbalanced datasets. Try out different algorithms to see if they handle the imbalance better."
      ]
    },
    {
      "cell_type": "markdown",
      "metadata": {
        "id": "Ai_OE91MAFXV"
      },
      "source": [
        "4. Cross-validation:\n",
        "\n",
        "* Ensure you're using stratified k-fold cross-validation when evaluating the model to ensure that the proportion of positive and negative samples is similar across training and validation splits."
      ]
    },
    {
      "cell_type": "markdown",
      "metadata": {
        "id": "8aMzcj-NXZL9"
      },
      "source": [
        "# Part II"
      ]
    },
    {
      "cell_type": "markdown",
      "metadata": {
        "id": "-Cm67S-5Ny7t"
      },
      "source": [
        "> This section of the workshop is for practice and should be completed after finishing Part I. The tasks are similar to those in Part I, but the dataset used here is different."
      ]
    },
    {
      "cell_type": "markdown",
      "metadata": {
        "id": "gzNS9ddxXQUe"
      },
      "source": [
        "## Dataset 2 : *Workout Fitness Tracker*\n",
        "\n",
        "* About dataset ( csv filename : workout_fitness_tracker_data.csv)\n",
        "\n",
        "> This dataset contains 10,000 records of workout and fitness-related data collected from various fitness apps and devices.\n",
        "\n",
        "> It is designed to help analyze and predict workout efficiency based on user activity, health metrics, and lifestyle factors.\n",
        "\n",
        "> Potential Use cases includes:\n",
        "\n",
        "1. Predicting Workout Efficiency based on different metrics.\n",
        "\n",
        "2. Analyzing the impact of sleep and nutrition on workout performance.\n",
        "\n",
        "3. Finding correlations between heart rate, workout type, and calories burned.\n",
        "\n",
        "4. Developing AI/ML models to suggest personalized workout plans.\n",
        "\n",
        "5. Tracking fitness habits and their effect on mood.\n",
        "\n",
        "> Dataset features\n",
        "\n",
        "1. *User ID*: Unique identifier for each user\n",
        "2. *Age*: User’s age (18-60 years)\n",
        "3. *Gender*: Male, Female, Other\n",
        "4. *Height (cm)*: User’s height in centimeters\n",
        "5. *Weight (kg)*: User’s weight in kilograms\n",
        "6. *Workout Type*: Type of workout (Cardio, Strength, Yoga, HIIT, Cycling, Running)\n",
        "7. *Workout Duration (mins)*: Total time spent in workout\n",
        "8. *Calories Burned*: Total calories burned during workout\n",
        "9. *Heart Rate (bpm)*: Average heart rate during the workout\n",
        "10. *Steps Taken*: Number of steps recorded (for walking/running workouts)\n",
        "11. *Distance (km)*: Distance covered in kilometers\n",
        "12. *Workout Intensity*: Low, Medium, High\n",
        "13. *Sleep Hours*: Hours of sleep before the workout\n",
        "14. *Water Intake (liters)*: Water consumed in liters\n",
        "15. *Daily Calories Intake*: Total calories consumed in a day\n",
        "16. *Resting Heart Rate (bpm)*: Heart rate when at rest\n",
        "17. *VO2 Max*: Oxygen consumption capacity (indicator of cardiovascular fitness)\n",
        "18. *Body Fat (%)*: Estimated body fat percentage\n",
        "19. *Mood Before Workout*: Mood before the workout (Happy, Neutral, Tired, Stressed)\n",
        "20. *Mood After Workout*: Mood after the workout (Energized, Neutral, Fatigued)"
      ]
    },
    {
      "cell_type": "markdown",
      "metadata": {
        "id": "2ZihlE3AOar7"
      },
      "source": [
        "### 1. Load Dataset"
      ]
    },
    {
      "cell_type": "code",
      "execution_count": null,
      "metadata": {
        "id": "_QdRvyM9OfQF"
      },
      "outputs": [],
      "source": []
    },
    {
      "cell_type": "markdown",
      "metadata": {
        "id": "EPsQN86oOf3d"
      },
      "source": [
        "### 2. Data Analysis"
      ]
    },
    {
      "cell_type": "code",
      "execution_count": null,
      "metadata": {
        "id": "iz8i6lcDPq33"
      },
      "outputs": [],
      "source": []
    },
    {
      "cell_type": "markdown",
      "metadata": {
        "id": "lUP-JCtROke8"
      },
      "source": [
        "### 3. CLeaning Data"
      ]
    },
    {
      "cell_type": "code",
      "execution_count": null,
      "metadata": {
        "id": "rUllWw8UOq8b"
      },
      "outputs": [],
      "source": []
    },
    {
      "cell_type": "markdown",
      "metadata": {
        "id": "3HUAYk-1Orln"
      },
      "source": [
        "### 4. Data Visualisation"
      ]
    },
    {
      "cell_type": "code",
      "execution_count": null,
      "metadata": {
        "id": "qZNnCf7FOunE"
      },
      "outputs": [],
      "source": []
    },
    {
      "cell_type": "markdown",
      "metadata": {
        "id": "HMVUBWK8O2Vb"
      },
      "source": [
        "### 5. Data Preparation"
      ]
    },
    {
      "cell_type": "code",
      "execution_count": null,
      "metadata": {
        "id": "UHrqv8G4O6Zr"
      },
      "outputs": [],
      "source": []
    },
    {
      "cell_type": "markdown",
      "metadata": {
        "id": "6XfjXDcdO9jI"
      },
      "source": [
        "### 6. Model Building"
      ]
    },
    {
      "cell_type": "code",
      "execution_count": null,
      "metadata": {
        "id": "rCbmcZ1lPCPw"
      },
      "outputs": [],
      "source": []
    },
    {
      "cell_type": "markdown",
      "metadata": {
        "id": "YjH6b-jTPEaf"
      },
      "source": [
        "### 7. Model Evaluation"
      ]
    },
    {
      "cell_type": "code",
      "execution_count": null,
      "metadata": {
        "id": "5jVkS1ULPIH3"
      },
      "outputs": [],
      "source": []
    }
  ],
  "metadata": {
    "colab": {
      "provenance": []
    },
    "kernelspec": {
      "display_name": "Python 3 (ipykernel)",
      "language": "python",
      "name": "python3"
    },
    "language_info": {
      "codemirror_mode": {
        "name": "ipython",
        "version": 3
      },
      "file_extension": ".py",
      "mimetype": "text/x-python",
      "name": "python",
      "nbconvert_exporter": "python",
      "pygments_lexer": "ipython3",
      "version": "3.11.7"
    }
  },
  "nbformat": 4,
  "nbformat_minor": 0
}