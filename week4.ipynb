{
  "nbformat": 4,
  "nbformat_minor": 0,
  "metadata": {
    "colab": {
      "private_outputs": true,
      "provenance": []
    },
    "kernelspec": {
      "name": "python3",
      "display_name": "Python 3"
    },
    "language_info": {
      "name": "python"
    }
  },
  "cells": [
    {
      "cell_type": "code",
      "execution_count": null,
      "metadata": {
        "id": "gGqptN-18omR"
      },
      "outputs": [],
      "source": [
        "!pip install gdown"
      ]
    },
    {
      "cell_type": "code",
      "source": [
        "!gdown 1NhHyFv0nsL0hsvKBQKwHEt4oNeKqLxcE"
      ],
      "metadata": {
        "id": "N8spK35BE2O1"
      },
      "execution_count": null,
      "outputs": []
    },
    {
      "cell_type": "code",
      "source": [
        "!unzip Digi.zip"
      ],
      "metadata": {
        "id": "IA5yM1rXGz7P"
      },
      "execution_count": null,
      "outputs": []
    },
    {
      "cell_type": "code",
      "source": [
        "pip install numpy pillow tensorflow"
      ],
      "metadata": {
        "id": "dFKOXvSQHimD"
      },
      "execution_count": null,
      "outputs": []
    },
    {
      "cell_type": "code",
      "source": [
        "import os\n",
        "import numpy as np\n",
        "import tensorflow as tf\n",
        "from tensorflow.keras.utils import to_categorical\n",
        "from PIL import Image  # Import Pillow\n",
        "import matplotlib.pyplot as plt\n",
        "\n",
        "# Unzip dataset\n",
        "!unzip digit.zip -d /content/\n",
        "\n",
        "# Define dataset paths\n",
        "train_dir = \"/content/DevanagariHandwrittenDigitDataset/Train\"\n",
        "test_dir = \"/content/DevanagariHandwrittenDigitDataset/Test\"\n",
        "\n",
        "# Define image size\n",
        "img_height, img_width = 28, 28\n",
        "\n",
        "# Function to load images and labels using PIL\n",
        "def load_images_from_folder(folder):\n",
        "    images = []\n",
        "    labels = []\n",
        "    class_names = sorted(os.listdir(folder))  # Sorted class names (digit_0, digit_1, ...)\n",
        "    class_map = {name: i for i, name in enumerate(class_names)}  # Map class names to labels\n",
        "\n",
        "    for class_name in class_names:\n",
        "        class_path = os.path.join(folder, class_name)\n",
        "        label = class_map[class_name]\n",
        "\n",
        "        for filename in os.listdir(class_path):\n",
        "            img_path = os.path.join(class_path, filename)\n",
        "\n",
        "            # Load image using PIL\n",
        "            img = Image.open(img_path).convert(\"L\")  # Convert to grayscale\n",
        "            img = img.resize((img_width, img_height))  # Resize to (28,28)\n",
        "            img = np.array(img) / 255.0  # Normalize pixel values to [0,1]\n",
        "\n",
        "            images.append(img)\n",
        "            labels.append(label)\n",
        "\n",
        "    return np.array(images), np.array(labels), class_names\n",
        "\n",
        "# Load training and testing datasets\n",
        "x_train, y_train, class_names = load_images_from_folder(train_dir)\n",
        "x_test, y_test, _ = load_images_from_folder(test_dir)\n",
        "\n",
        "# Reshape images for Keras input (adding channel dimension)\n",
        "x_train = x_train.reshape(-1, img_height, img_width, 1)  # Shape (num_samples, 28, 28, 1)\n",
        "x_test = x_test.reshape(-1, img_height, img_width, 1)\n",
        "\n",
        "# One-hot encode labels\n",
        "y_train = to_categorical(y_train, num_classes=10)\n",
        "y_test = to_categorical(y_test, num_classes=10)\n",
        "\n",
        "# Print dataset shape\n",
        "print(f\"Training set: {x_train.shape}, Labels: {y_train.shape}\")\n",
        "print(f\"Testing set: {x_test.shape}, Labels: {y_test.shape}\")\n",
        "\n",
        "# Visualize all digits\n",
        "plt.figure(figsize=(10, 5))\n",
        "for i, class_name in enumerate(class_names):\n",
        "    img_index = np.where(y_train.argmax(axis=1) == i)[0][0]  # Get an index for each class\n",
        "    plt.subplot(2, 5, i + 1)\n",
        "    plt.imshow(x_train[img_index].reshape(28, 28), cmap='gray')\n",
        "    plt.title(f\"Label: {class_name}\")\n",
        "    plt.axis(\"off\")\n",
        "plt.show()"
      ],
      "metadata": {
        "id": "G1GWDt6IHymw"
      },
      "execution_count": null,
      "outputs": []
    },
    {
      "cell_type": "code",
      "source": [
        "from tensorflow.keras.models import Sequential\n",
        "from tensorflow.keras.layers import Flatten, Dense\n",
        "\n",
        "# Build Fully Connected Neural Network (FCN) Model\n",
        "model = Sequential([\n",
        "    Flatten(input_shape=(img_height, img_width, 1)),  # Flatten input image\n",
        "    Dense(64, activation='sigmoid'),  # First hidden layer with 64 neurons\n",
        "    Dense(128, activation='sigmoid'),  # Second hidden layer with 128 neurons\n",
        "    Dense(256, activation='sigmoid'),  # Third hidden layer with 256 neurons\n",
        "    Dense(10, activation='softmax')  # Output layer with 10 neurons for classification\n",
        "])\n",
        "\n",
        "# Compile the model\n",
        "model.compile(optimizer='adam', loss='categorical_crossentropy', metrics=['accuracy'])\n",
        "\n",
        "# Print model summary\n",
        "model.summary()"
      ],
      "metadata": {
        "id": "3T-TxiqzJhU3"
      },
      "execution_count": null,
      "outputs": []
    },
    {
      "cell_type": "code",
      "source": [
        "# Compile the model\n",
        "model.compile(optimizer='adam',  # Adam optimizer\n",
        "              loss='categorical_crossentropy',  # Loss function for multi-class classification\n",
        "              metrics=['accuracy'])  # Evaluation metric\n",
        "\n",
        "model.summary()"
      ],
      "metadata": {
        "id": "_8GQiQhuD7sc"
      },
      "execution_count": null,
      "outputs": []
    },
    {
      "cell_type": "code",
      "source": [
        "from tensorflow.keras.callbacks import ModelCheckpoint, EarlyStopping\n",
        "\n",
        "# Define callbacks\n",
        "checkpoint_callback = ModelCheckpoint('best_model.h5', save_best_only=True, monitor='val_loss', mode='min', verbose=1)\n",
        "early_stopping_callback = EarlyStopping(monitor='val_loss', patience=4, restore_best_weights=True, verbose=1)\n",
        "\n",
        "# Train the model\n",
        "history = model.fit(x_train, y_train,\n",
        "                    epochs=20,\n",
        "                    batch_size=128,\n",
        "                    validation_split=0.2,  # 20% of data used for validation\n",
        "                    callbacks=[checkpoint_callback, early_stopping_callback],  # Include callbacks\n",
        "                    verbose=1)\n",
        "\n",
        "# After training, you can evaluate the model on the test set\n",
        "test_loss, test_acc = model.evaluate(x_test, y_test, verbose=2)\n",
        "print(f\"Test accuracy: {test_acc}\")\n",
        "\n",
        "# Optionally, plot training history (accuracy and loss)\n",
        "plt.figure(figsize=(12, 6))\n",
        "\n",
        "# Accuracy plot\n",
        "plt.subplot(1, 2, 1)\n",
        "plt.plot(history.history['accuracy'], label='Training Accuracy')\n",
        "plt.plot(history.history['val_accuracy'], label='Validation Accuracy')\n",
        "plt.title('Model Accuracy')\n",
        "plt.xlabel('Epochs')\n",
        "plt.ylabel('Accuracy')\n",
        "plt.legend()\n",
        "\n",
        "# Loss plot\n",
        "plt.subplot(1, 2, 2)\n",
        "plt.plot(history.history['loss'], label='Training Loss')\n",
        "plt.plot(history.history['val_loss'], label='Validation Loss')\n",
        "plt.title('Model Loss')\n",
        "plt.xlabel('Epochs')\n",
        "plt.ylabel('Loss')\n",
        "plt.legend()\n",
        "\n",
        "plt.show()"
      ],
      "metadata": {
        "id": "FYQVtpbsNn-l"
      },
      "execution_count": null,
      "outputs": []
    },
    {
      "cell_type": "code",
      "source": [
        "# Evaluate the model on the test set\n",
        "test_loss, test_acc = model.evaluate(x_test, y_test, verbose=2)\n",
        "\n",
        "# Output the test accuracy and loss\n",
        "print(f\"Test Loss: {test_loss:.4f}\")\n",
        "print(f\"Test Accuracy: {test_acc * 100:.2f}%\")"
      ],
      "metadata": {
        "id": "jeapm26Gf57J"
      },
      "execution_count": null,
      "outputs": []
    },
    {
      "cell_type": "code",
      "source": [
        "# Save the trained model to an HDF5 file\n",
        "model.save(\"handwritten_digit_model.h5\")\n",
        "print(\"Model saved successfully!\")\n",
        "# Load the saved model\n",
        "loaded_model = tf.keras.models.load_model(\"handwritten_digit_model.h5\")\n",
        "print(\"Model loaded successfully!\")\n",
        "# Evaluate the loaded model on the test dataset\n",
        "test_loss, test_acc = loaded_model.evaluate(x_test, y_test, verbose=2)\n",
        "\n",
        "# Print the results\n",
        "print(f\"Loaded Model Test Accuracy: {test_acc * 100:.2f}%\")\n",
        "print(f\"Loaded Model Test Loss: {test_loss:.4f}\")"
      ],
      "metadata": {
        "id": "KM81dP6BhN1B"
      },
      "execution_count": null,
      "outputs": []
    },
    {
      "cell_type": "code",
      "source": [
        "import numpy as np\n",
        "import matplotlib.pyplot as plt\n",
        "\n",
        "# Make predictions on the test set\n",
        "predictions = model.predict(x_test)\n",
        "\n",
        "# Convert probabilities to class labels\n",
        "predicted_labels = np.argmax(predictions, axis=1)\n",
        "\n",
        "# Convert one-hot encoded y_test back to class labels for comparison\n",
        "true_labels = np.argmax(y_test, axis=1)\n",
        "\n",
        "# Select one sample for each digit (0-9)\n",
        "num_samples = 10\n",
        "selected_indices = []\n",
        "\n",
        "# Loop to select one sample for each digit (0-9)\n",
        "for digit in range(10):\n",
        "    digit_indices = np.where(true_labels == digit)[0]\n",
        "    selected_index = np.random.choice(digit_indices)\n",
        "    selected_indices.append(selected_index)\n",
        "\n",
        "# Display the selected samples\n",
        "plt.figure(figsize=(12, 5))\n",
        "for i, index in enumerate(selected_indices):\n",
        "    plt.subplot(2, 5, i + 1)\n",
        "    plt.imshow(x_test[index].reshape(28, 28), cmap='gray')\n",
        "    plt.title(f\"Pred: {predicted_labels[index]}\\nTrue: {true_labels[index]}\")\n",
        "    plt.axis(\"off\")\n",
        "\n",
        "plt.tight_layout()\n",
        "plt.show()"
      ],
      "metadata": {
        "id": "zyktLErqhafq"
      },
      "execution_count": null,
      "outputs": []
    }
  ]
}